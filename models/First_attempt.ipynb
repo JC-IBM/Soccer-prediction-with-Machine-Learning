{
 "cells": [
  {
   "cell_type": "markdown",
   "metadata": {},
   "source": [
    "### Data Loading"
   ]
  },
  {
   "cell_type": "code",
   "execution_count": null,
   "metadata": {},
   "outputs": [],
   "source": [
    "import pandas as pd\n",
    "from helpers import *"
   ]
  },
  {
   "cell_type": "markdown",
   "metadata": {},
   "source": [
    "Firstly, let's create our data-frame from our source data. Additionally, we'll transform the `Score_home` and `Score_away` columns into our target variable such that:\n",
    "$$\n",
    "y = \\cases{-1 \\\\ \n",
    "            0 \\\\\n",
    "            1 }\n",
    "$$\n",
    "using the helper function `score_to_win()`"
   ]
  },
  {
   "cell_type": "code",
   "execution_count": 2,
   "metadata": {},
   "outputs": [
    {
     "data": {
      "text/html": [
       "<div>\n",
       "<style scoped>\n",
       "    .dataframe tbody tr th:only-of-type {\n",
       "        vertical-align: middle;\n",
       "    }\n",
       "\n",
       "    .dataframe tbody tr th {\n",
       "        vertical-align: top;\n",
       "    }\n",
       "\n",
       "    .dataframe thead th {\n",
       "        text-align: right;\n",
       "    }\n",
       "</style>\n",
       "<table border=\"1\" class=\"dataframe\">\n",
       "  <thead>\n",
       "    <tr style=\"text-align: right;\">\n",
       "      <th></th>\n",
       "      <th>MatchID</th>\n",
       "      <th>Home_team</th>\n",
       "      <th>Away_team</th>\n",
       "      <th>Score_home</th>\n",
       "      <th>Score_away</th>\n",
       "      <th>Possession_home</th>\n",
       "      <th>Possession_away</th>\n",
       "      <th>Shots_on_target_home</th>\n",
       "      <th>Shots_on_target_away</th>\n",
       "      <th>Shots_home</th>\n",
       "      <th>...</th>\n",
       "      <th>Corners_away</th>\n",
       "      <th>Offsides_home</th>\n",
       "      <th>Offsides_away</th>\n",
       "      <th>Yellow_cards_home</th>\n",
       "      <th>Yellow_cards_away</th>\n",
       "      <th>Fouls_conceded_home</th>\n",
       "      <th>Fouls_conceded_away</th>\n",
       "      <th>Red_cards_home</th>\n",
       "      <th>Red_cards_away</th>\n",
       "      <th>target</th>\n",
       "    </tr>\n",
       "  </thead>\n",
       "  <tbody>\n",
       "    <tr>\n",
       "      <th>0</th>\n",
       "      <td>5937</td>\n",
       "      <td>Blackburn</td>\n",
       "      <td>Reading</td>\n",
       "      <td>3</td>\n",
       "      <td>3</td>\n",
       "      <td>54.0</td>\n",
       "      <td>46.0</td>\n",
       "      <td>6.0</td>\n",
       "      <td>4.0</td>\n",
       "      <td>15.0</td>\n",
       "      <td>...</td>\n",
       "      <td>10.0</td>\n",
       "      <td>5.0</td>\n",
       "      <td>3.0</td>\n",
       "      <td>2.0</td>\n",
       "      <td>0.0</td>\n",
       "      <td>18.0</td>\n",
       "      <td>7.0</td>\n",
       "      <td>0.0</td>\n",
       "      <td>0.0</td>\n",
       "      <td>0</td>\n",
       "    </tr>\n",
       "    <tr>\n",
       "      <th>1</th>\n",
       "      <td>5938</td>\n",
       "      <td>Bolton</td>\n",
       "      <td>Aston Villa</td>\n",
       "      <td>2</td>\n",
       "      <td>2</td>\n",
       "      <td>47.1</td>\n",
       "      <td>52.9</td>\n",
       "      <td>2.0</td>\n",
       "      <td>2.0</td>\n",
       "      <td>11.0</td>\n",
       "      <td>...</td>\n",
       "      <td>6.0</td>\n",
       "      <td>0.0</td>\n",
       "      <td>2.0</td>\n",
       "      <td>2.0</td>\n",
       "      <td>1.0</td>\n",
       "      <td>10.0</td>\n",
       "      <td>11.0</td>\n",
       "      <td>0.0</td>\n",
       "      <td>0.0</td>\n",
       "      <td>0</td>\n",
       "    </tr>\n",
       "    <tr>\n",
       "      <th>2</th>\n",
       "      <td>5939</td>\n",
       "      <td>Chelsea</td>\n",
       "      <td>Everton</td>\n",
       "      <td>1</td>\n",
       "      <td>1</td>\n",
       "      <td>59.3</td>\n",
       "      <td>40.7</td>\n",
       "      <td>7.0</td>\n",
       "      <td>6.0</td>\n",
       "      <td>20.0</td>\n",
       "      <td>...</td>\n",
       "      <td>2.0</td>\n",
       "      <td>6.0</td>\n",
       "      <td>2.0</td>\n",
       "      <td>2.0</td>\n",
       "      <td>1.0</td>\n",
       "      <td>13.0</td>\n",
       "      <td>7.0</td>\n",
       "      <td>0.0</td>\n",
       "      <td>0.0</td>\n",
       "      <td>0</td>\n",
       "    </tr>\n",
       "    <tr>\n",
       "      <th>3</th>\n",
       "      <td>5940</td>\n",
       "      <td>Liverpool</td>\n",
       "      <td>Charlton</td>\n",
       "      <td>2</td>\n",
       "      <td>2</td>\n",
       "      <td>61.6</td>\n",
       "      <td>38.4</td>\n",
       "      <td>5.0</td>\n",
       "      <td>4.0</td>\n",
       "      <td>23.0</td>\n",
       "      <td>...</td>\n",
       "      <td>2.0</td>\n",
       "      <td>6.0</td>\n",
       "      <td>4.0</td>\n",
       "      <td>0.0</td>\n",
       "      <td>0.0</td>\n",
       "      <td>5.0</td>\n",
       "      <td>13.0</td>\n",
       "      <td>0.0</td>\n",
       "      <td>0.0</td>\n",
       "      <td>0</td>\n",
       "    </tr>\n",
       "    <tr>\n",
       "      <th>4</th>\n",
       "      <td>5941</td>\n",
       "      <td>Man Utd</td>\n",
       "      <td>West Ham</td>\n",
       "      <td>0</td>\n",
       "      <td>1</td>\n",
       "      <td>65.3</td>\n",
       "      <td>34.7</td>\n",
       "      <td>7.0</td>\n",
       "      <td>2.0</td>\n",
       "      <td>30.0</td>\n",
       "      <td>...</td>\n",
       "      <td>3.0</td>\n",
       "      <td>0.0</td>\n",
       "      <td>1.0</td>\n",
       "      <td>0.0</td>\n",
       "      <td>2.0</td>\n",
       "      <td>13.0</td>\n",
       "      <td>12.0</td>\n",
       "      <td>0.0</td>\n",
       "      <td>0.0</td>\n",
       "      <td>-1</td>\n",
       "    </tr>\n",
       "  </tbody>\n",
       "</table>\n",
       "<p>5 rows × 30 columns</p>\n",
       "</div>"
      ],
      "text/plain": [
       "   MatchID  Home_team    Away_team  Score_home  Score_away  Possession_home  \\\n",
       "0     5937  Blackburn      Reading           3           3             54.0   \n",
       "1     5938     Bolton  Aston Villa           2           2             47.1   \n",
       "2     5939    Chelsea      Everton           1           1             59.3   \n",
       "3     5940  Liverpool     Charlton           2           2             61.6   \n",
       "4     5941    Man Utd     West Ham           0           1             65.3   \n",
       "\n",
       "   Possession_away  Shots_on_target_home  Shots_on_target_away  Shots_home  \\\n",
       "0             46.0                   6.0                   4.0        15.0   \n",
       "1             52.9                   2.0                   2.0        11.0   \n",
       "2             40.7                   7.0                   6.0        20.0   \n",
       "3             38.4                   5.0                   4.0        23.0   \n",
       "4             34.7                   7.0                   2.0        30.0   \n",
       "\n",
       "   ...  Corners_away  Offsides_home  Offsides_away  Yellow_cards_home  \\\n",
       "0  ...          10.0            5.0            3.0                2.0   \n",
       "1  ...           6.0            0.0            2.0                2.0   \n",
       "2  ...           2.0            6.0            2.0                2.0   \n",
       "3  ...           2.0            6.0            4.0                0.0   \n",
       "4  ...           3.0            0.0            1.0                0.0   \n",
       "\n",
       "   Yellow_cards_away  Fouls_conceded_home  Fouls_conceded_away  \\\n",
       "0                0.0                 18.0                  7.0   \n",
       "1                1.0                 10.0                 11.0   \n",
       "2                1.0                 13.0                  7.0   \n",
       "3                0.0                  5.0                 13.0   \n",
       "4                2.0                 13.0                 12.0   \n",
       "\n",
       "   Red_cards_home  Red_cards_away  target  \n",
       "0             0.0             0.0       0  \n",
       "1             0.0             0.0       0  \n",
       "2             0.0             0.0       0  \n",
       "3             0.0             0.0       0  \n",
       "4             0.0             0.0      -1  \n",
       "\n",
       "[5 rows x 30 columns]"
      ]
     },
     "execution_count": 2,
     "metadata": {},
     "output_type": "execute_result"
    }
   ],
   "source": [
    "DATA_SRC = '../Data/PL_site_2006_2018/masterdata.csv'\n",
    "df = pd.read_csv(DATA_SRC)\n",
    "\n",
    "# create win/lose label\n",
    "df['target'] = df[['Score_home', 'Score_away']].apply(score_to_win, axis = 1)\n",
    "df.head()"
   ]
  },
  {
   "cell_type": "markdown",
   "metadata": {},
   "source": [
    "### Feature Extraction\n",
    "Now, we must drop several variables from the above table in order to fit our model. We'll create `df_wo` to pass in. This leaves us with 24 avaiable features."
   ]
  },
  {
   "cell_type": "code",
   "execution_count": 31,
   "metadata": {},
   "outputs": [
    {
     "data": {
      "text/plain": [
       "['Possession_home',\n",
       " 'Possession_away',\n",
       " 'Shots_on_target_home',\n",
       " 'Shots_on_target_away',\n",
       " 'Shots_home',\n",
       " 'Shots_away',\n",
       " 'Touches_home',\n",
       " 'Touches_away',\n",
       " 'Passes_home',\n",
       " 'Passes_away',\n",
       " 'Tackles_home',\n",
       " 'Tackles_away',\n",
       " 'Clearances_home',\n",
       " 'Clearances_away',\n",
       " 'Corners_home',\n",
       " 'Corners_away',\n",
       " 'Offsides_home',\n",
       " 'Offsides_away',\n",
       " 'Yellow_cards_home',\n",
       " 'Yellow_cards_away',\n",
       " 'Fouls_conceded_home',\n",
       " 'Fouls_conceded_away',\n",
       " 'Red_cards_home',\n",
       " 'Red_cards_away']"
      ]
     },
     "execution_count": 31,
     "metadata": {},
     "output_type": "execute_result"
    }
   ],
   "source": [
    "df_wo = df.drop(columns = ['target', 'MatchID', 'Home_team', 'Away_team', 'Score_home', 'Score_away'])\n",
    "list(df_wo)"
   ]
  },
  {
   "cell_type": "code",
   "execution_count": 32,
   "metadata": {},
   "outputs": [],
   "source": [
    "from sklearn.linear_model import LogisticRegression\n",
    "from sklearn.model_selection import train_test_split"
   ]
  },
  {
   "cell_type": "code",
   "execution_count": 33,
   "metadata": {},
   "outputs": [],
   "source": [
    "X = df_wo.values\n",
    "y = df['target'].values\n",
    "\n",
    "X_train, X_test, y_train, y_test = train_test_split(X, y, test_size = .2)"
   ]
  },
  {
   "cell_type": "code",
   "execution_count": 34,
   "metadata": {},
   "outputs": [
    {
     "name": "stderr",
     "output_type": "stream",
     "text": [
      "/home/thomas/.local/lib/python3.6/site-packages/sklearn/linear_model/logistic.py:433: FutureWarning: Default solver will be changed to 'lbfgs' in 0.22. Specify a solver to silence this warning.\n",
      "  FutureWarning)\n",
      "/home/thomas/.local/lib/python3.6/site-packages/sklearn/linear_model/logistic.py:460: FutureWarning: Default multi_class will be changed to 'auto' in 0.22. Specify the multi_class option to silence this warning.\n",
      "  \"this warning.\", FutureWarning)\n"
     ]
    },
    {
     "data": {
      "text/plain": [
       "0.6535087719298246"
      ]
     },
     "execution_count": 34,
     "metadata": {},
     "output_type": "execute_result"
    }
   ],
   "source": [
    "lr = LogisticRegression(random_state = 42)\n",
    "\n",
    "lr.fit(X_train, y_train)\n",
    "lr.score(X_test, y_test)"
   ]
  },
  {
   "cell_type": "markdown",
   "metadata": {},
   "source": [
    "In the hopes of gaining information on the relevance of our features, and their predictive power, we can investigate the coefficients within our model. Each has 3 values, a value for each of the possible 3 classes: win, draw, lose."
   ]
  },
  {
   "cell_type": "code",
   "execution_count": 36,
   "metadata": {},
   "outputs": [
    {
     "name": "stdout",
     "output_type": "stream",
     "text": [
      "Possession_home :  [ 0.13747925  0.02769014 -0.16396916]\n",
      "Possession_away :  [-0.17997966 -0.03453582  0.17974564]\n",
      "Shots_on_target_home :  [-0.30363313 -0.1959425   0.42429311]\n",
      "Shots_on_target_away :  [ 0.41669243 -0.06490135 -0.32400902]\n",
      "Shots_home :  [ 0.02544738  0.01205473 -0.03173392]\n",
      "Shots_away :  [-0.02896331 -0.0045982   0.02951583]\n",
      "Touches_home :  [-0.00551344  0.00455849  0.00075069]\n",
      "Touches_away :  [ 0.00577394  0.0008052  -0.00444356]\n",
      "Passes_home :  [-0.01177352 -0.00886142  0.01828333]\n",
      "Passes_away :  [ 0.01408628  0.00099977 -0.01505982]\n",
      "Tackles_home :  [-1.19447653e-02  7.35051827e-03  6.00960049e-05]\n",
      "Tackles_away :  [ 0.02500506 -0.01600747 -0.00443609]\n",
      "Clearances_home :  [-0.0401921  -0.00961571  0.04117623]\n",
      "Clearances_away :  [ 0.03673126  0.0076595  -0.0480113 ]\n",
      "Corners_home :  [-0.02518386  0.00899903  0.02540298]\n",
      "Corners_away :  [ 0.02786562  0.00852624 -0.03348711]\n",
      "Offsides_home :  [-0.06468234 -0.02413637  0.07332252]\n",
      "Offsides_away :  [ 0.00391521  0.01536046 -0.02551626]\n",
      "Yellow_cards_home :  [ 0.08590084  0.01772096 -0.0818179 ]\n",
      "Yellow_cards_away :  [-0.04651298  0.05558571 -0.00604131]\n",
      "Fouls_conceded_home :  [ 0.00856937  0.00433144 -0.00839773]\n",
      "Fouls_conceded_away :  [-0.02920519  0.00866842  0.01340975]\n",
      "Red_cards_home :  [ 0.97169214 -0.0016701  -1.1086674 ]\n",
      "Red_cards_away :  [-0.80669496 -0.01556916  0.63381036]\n"
     ]
    }
   ],
   "source": [
    "for i, feature in enumerate(list(df_wo)):\n",
    "    print(feature, \": \", lr.coef_[:,i])"
   ]
  },
  {
   "cell_type": "code",
   "execution_count": null,
   "metadata": {},
   "outputs": [],
   "source": []
  }
 ],
 "metadata": {
  "kernelspec": {
   "display_name": "Python 3",
   "language": "python",
   "name": "python3"
  },
  "language_info": {
   "codemirror_mode": {
    "name": "ipython",
    "version": 3
   },
   "file_extension": ".py",
   "mimetype": "text/x-python",
   "name": "python",
   "nbconvert_exporter": "python",
   "pygments_lexer": "ipython3",
   "version": "3.6.7"
  }
 },
 "nbformat": 4,
 "nbformat_minor": 2
}
