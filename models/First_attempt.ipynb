{
 "cells": [
  {
   "cell_type": "markdown",
   "metadata": {},
   "source": [
    "### Data Loading"
   ]
  },
  {
   "cell_type": "code",
   "execution_count": 3,
   "metadata": {},
   "outputs": [],
   "source": [
    "import pandas as pd\n",
    "from helpers import *"
   ]
  },
  {
   "cell_type": "markdown",
   "metadata": {},
   "source": [
    "Firstly, let's create our data-frame from our source data. Additionally, we'll transform the `Score_home` and `Score_away` columns into our target variable such that:\n",
    "$$\n",
    "y = \\cases{-1 \\\\ \n",
    "            0 \\\\\n",
    "            1 }\n",
    "$$\n",
    "using the helper function `score_to_win()`"
   ]
  },
  {
   "cell_type": "code",
   "execution_count": 4,
   "metadata": {},
   "outputs": [
    {
     "data": {
      "text/html": [
       "<div>\n",
       "<style scoped>\n",
       "    .dataframe tbody tr th:only-of-type {\n",
       "        vertical-align: middle;\n",
       "    }\n",
       "\n",
       "    .dataframe tbody tr th {\n",
       "        vertical-align: top;\n",
       "    }\n",
       "\n",
       "    .dataframe thead th {\n",
       "        text-align: right;\n",
       "    }\n",
       "</style>\n",
       "<table border=\"1\" class=\"dataframe\">\n",
       "  <thead>\n",
       "    <tr style=\"text-align: right;\">\n",
       "      <th></th>\n",
       "      <th>MatchID</th>\n",
       "      <th>Home_team</th>\n",
       "      <th>Away_team</th>\n",
       "      <th>Score_home</th>\n",
       "      <th>Score_away</th>\n",
       "      <th>Possession_home</th>\n",
       "      <th>Possession_away</th>\n",
       "      <th>Shots_on_target_home</th>\n",
       "      <th>Shots_on_target_away</th>\n",
       "      <th>Shots_home</th>\n",
       "      <th>...</th>\n",
       "      <th>Corners_away</th>\n",
       "      <th>Offsides_home</th>\n",
       "      <th>Offsides_away</th>\n",
       "      <th>Yellow_cards_home</th>\n",
       "      <th>Yellow_cards_away</th>\n",
       "      <th>Fouls_conceded_home</th>\n",
       "      <th>Fouls_conceded_away</th>\n",
       "      <th>Red_cards_home</th>\n",
       "      <th>Red_cards_away</th>\n",
       "      <th>target</th>\n",
       "    </tr>\n",
       "  </thead>\n",
       "  <tbody>\n",
       "    <tr>\n",
       "      <th>0</th>\n",
       "      <td>5937</td>\n",
       "      <td>Blackburn</td>\n",
       "      <td>Reading</td>\n",
       "      <td>3</td>\n",
       "      <td>3</td>\n",
       "      <td>54.0</td>\n",
       "      <td>46.0</td>\n",
       "      <td>6.0</td>\n",
       "      <td>4.0</td>\n",
       "      <td>15.0</td>\n",
       "      <td>...</td>\n",
       "      <td>10.0</td>\n",
       "      <td>5.0</td>\n",
       "      <td>3.0</td>\n",
       "      <td>2.0</td>\n",
       "      <td>0.0</td>\n",
       "      <td>18.0</td>\n",
       "      <td>7.0</td>\n",
       "      <td>0.0</td>\n",
       "      <td>0.0</td>\n",
       "      <td>0</td>\n",
       "    </tr>\n",
       "    <tr>\n",
       "      <th>1</th>\n",
       "      <td>5938</td>\n",
       "      <td>Bolton</td>\n",
       "      <td>Aston Villa</td>\n",
       "      <td>2</td>\n",
       "      <td>2</td>\n",
       "      <td>47.1</td>\n",
       "      <td>52.9</td>\n",
       "      <td>2.0</td>\n",
       "      <td>2.0</td>\n",
       "      <td>11.0</td>\n",
       "      <td>...</td>\n",
       "      <td>6.0</td>\n",
       "      <td>0.0</td>\n",
       "      <td>2.0</td>\n",
       "      <td>2.0</td>\n",
       "      <td>1.0</td>\n",
       "      <td>10.0</td>\n",
       "      <td>11.0</td>\n",
       "      <td>0.0</td>\n",
       "      <td>0.0</td>\n",
       "      <td>0</td>\n",
       "    </tr>\n",
       "    <tr>\n",
       "      <th>2</th>\n",
       "      <td>5939</td>\n",
       "      <td>Chelsea</td>\n",
       "      <td>Everton</td>\n",
       "      <td>1</td>\n",
       "      <td>1</td>\n",
       "      <td>59.3</td>\n",
       "      <td>40.7</td>\n",
       "      <td>7.0</td>\n",
       "      <td>6.0</td>\n",
       "      <td>20.0</td>\n",
       "      <td>...</td>\n",
       "      <td>2.0</td>\n",
       "      <td>6.0</td>\n",
       "      <td>2.0</td>\n",
       "      <td>2.0</td>\n",
       "      <td>1.0</td>\n",
       "      <td>13.0</td>\n",
       "      <td>7.0</td>\n",
       "      <td>0.0</td>\n",
       "      <td>0.0</td>\n",
       "      <td>0</td>\n",
       "    </tr>\n",
       "    <tr>\n",
       "      <th>3</th>\n",
       "      <td>5940</td>\n",
       "      <td>Liverpool</td>\n",
       "      <td>Charlton</td>\n",
       "      <td>2</td>\n",
       "      <td>2</td>\n",
       "      <td>61.6</td>\n",
       "      <td>38.4</td>\n",
       "      <td>5.0</td>\n",
       "      <td>4.0</td>\n",
       "      <td>23.0</td>\n",
       "      <td>...</td>\n",
       "      <td>2.0</td>\n",
       "      <td>6.0</td>\n",
       "      <td>4.0</td>\n",
       "      <td>0.0</td>\n",
       "      <td>0.0</td>\n",
       "      <td>5.0</td>\n",
       "      <td>13.0</td>\n",
       "      <td>0.0</td>\n",
       "      <td>0.0</td>\n",
       "      <td>0</td>\n",
       "    </tr>\n",
       "    <tr>\n",
       "      <th>4</th>\n",
       "      <td>5941</td>\n",
       "      <td>Man Utd</td>\n",
       "      <td>West Ham</td>\n",
       "      <td>0</td>\n",
       "      <td>1</td>\n",
       "      <td>65.3</td>\n",
       "      <td>34.7</td>\n",
       "      <td>7.0</td>\n",
       "      <td>2.0</td>\n",
       "      <td>30.0</td>\n",
       "      <td>...</td>\n",
       "      <td>3.0</td>\n",
       "      <td>0.0</td>\n",
       "      <td>1.0</td>\n",
       "      <td>0.0</td>\n",
       "      <td>2.0</td>\n",
       "      <td>13.0</td>\n",
       "      <td>12.0</td>\n",
       "      <td>0.0</td>\n",
       "      <td>0.0</td>\n",
       "      <td>-1</td>\n",
       "    </tr>\n",
       "  </tbody>\n",
       "</table>\n",
       "<p>5 rows × 30 columns</p>\n",
       "</div>"
      ],
      "text/plain": [
       "   MatchID  Home_team    Away_team  Score_home  Score_away  Possession_home  \\\n",
       "0     5937  Blackburn      Reading           3           3             54.0   \n",
       "1     5938     Bolton  Aston Villa           2           2             47.1   \n",
       "2     5939    Chelsea      Everton           1           1             59.3   \n",
       "3     5940  Liverpool     Charlton           2           2             61.6   \n",
       "4     5941    Man Utd     West Ham           0           1             65.3   \n",
       "\n",
       "   Possession_away  Shots_on_target_home  Shots_on_target_away  Shots_home  \\\n",
       "0             46.0                   6.0                   4.0        15.0   \n",
       "1             52.9                   2.0                   2.0        11.0   \n",
       "2             40.7                   7.0                   6.0        20.0   \n",
       "3             38.4                   5.0                   4.0        23.0   \n",
       "4             34.7                   7.0                   2.0        30.0   \n",
       "\n",
       "   ...  Corners_away  Offsides_home  Offsides_away  Yellow_cards_home  \\\n",
       "0  ...          10.0            5.0            3.0                2.0   \n",
       "1  ...           6.0            0.0            2.0                2.0   \n",
       "2  ...           2.0            6.0            2.0                2.0   \n",
       "3  ...           2.0            6.0            4.0                0.0   \n",
       "4  ...           3.0            0.0            1.0                0.0   \n",
       "\n",
       "   Yellow_cards_away  Fouls_conceded_home  Fouls_conceded_away  \\\n",
       "0                0.0                 18.0                  7.0   \n",
       "1                1.0                 10.0                 11.0   \n",
       "2                1.0                 13.0                  7.0   \n",
       "3                0.0                  5.0                 13.0   \n",
       "4                2.0                 13.0                 12.0   \n",
       "\n",
       "   Red_cards_home  Red_cards_away  target  \n",
       "0             0.0             0.0       0  \n",
       "1             0.0             0.0       0  \n",
       "2             0.0             0.0       0  \n",
       "3             0.0             0.0       0  \n",
       "4             0.0             0.0      -1  \n",
       "\n",
       "[5 rows x 30 columns]"
      ]
     },
     "execution_count": 4,
     "metadata": {},
     "output_type": "execute_result"
    }
   ],
   "source": [
    "DATA_SRC = '../Data/PL_site_2006_2018/masterdata.csv'\n",
    "df = pd.read_csv(DATA_SRC)\n",
    "\n",
    "# create win/lose label\n",
    "df['target'] = df[['Score_home', 'Score_away']].apply(score_to_win, axis = 1)\n",
    "df.head()"
   ]
  },
  {
   "cell_type": "markdown",
   "metadata": {},
   "source": [
    "### Feature Extraction\n",
    "Now, we must drop several variables from the above table in order to fit our model. We'll create `df_wo` to pass in. This leaves us with 24 avaiable features."
   ]
  },
  {
   "cell_type": "code",
   "execution_count": 5,
   "metadata": {},
   "outputs": [
    {
     "data": {
      "text/plain": [
       "['Possession_home',\n",
       " 'Possession_away',\n",
       " 'Shots_on_target_home',\n",
       " 'Shots_on_target_away',\n",
       " 'Shots_home',\n",
       " 'Shots_away',\n",
       " 'Touches_home',\n",
       " 'Touches_away',\n",
       " 'Passes_home',\n",
       " 'Passes_away',\n",
       " 'Tackles_home',\n",
       " 'Tackles_away',\n",
       " 'Clearances_home',\n",
       " 'Clearances_away',\n",
       " 'Corners_home',\n",
       " 'Corners_away',\n",
       " 'Offsides_home',\n",
       " 'Offsides_away',\n",
       " 'Yellow_cards_home',\n",
       " 'Yellow_cards_away',\n",
       " 'Fouls_conceded_home',\n",
       " 'Fouls_conceded_away',\n",
       " 'Red_cards_home',\n",
       " 'Red_cards_away']"
      ]
     },
     "execution_count": 5,
     "metadata": {},
     "output_type": "execute_result"
    }
   ],
   "source": [
    "df_wo = df.drop(columns = ['target', 'MatchID', 'Home_team', 'Away_team', 'Score_home', 'Score_away'])\n",
    "list(df_wo)"
   ]
  },
  {
   "cell_type": "markdown",
   "metadata": {},
   "source": [
    "## EDA\n",
    "### Correlation"
   ]
  },
  {
   "cell_type": "code",
   "execution_count": 7,
   "metadata": {},
   "outputs": [
    {
     "data": {
      "image/png": "[encoded data removed]",
      "text/plain": [
       "<Figure size 432x288 with 2 Axes>"
      ]
     },
     "metadata": {
      "needs_background": "light"
     },
     "output_type": "display_data"
    }
   ],
   "source": [
    "import seaborn as sns\n",
    "home_features = [ f for f in list(df_wo) if '_home' in f ]\n",
    "corr = df_wo[home_features].corr()\n",
    "_ = sns.heatmap(corr)"
   ]
  },
  {
   "cell_type": "markdown",
   "metadata": {},
   "source": [
    "### Variance Inflation\n",
    "It is likely the case that several of the above variables are collinear. Now, in many models this might not have an effect as the coefficients for one variable will be high while the other will just be nullified. However, based on our correlation analysis it is clear some variables are capturing the same information. For example, possession is highly correlated with touches and passes. This isn't surprising, if a team possesses the ball for long stretches they are likely moving the ball around. \n",
    "\n",
    "So, we'll use the concept of << Math >>\n",
    "\n",
    "We can use `statsmodels.stats.outliers_influence.variance_inflation_factor` to perform this analysis in Python."
   ]
  },
  {
   "cell_type": "code",
   "execution_count": 27,
   "metadata": {},
   "outputs": [
    {
     "name": "stdout",
     "output_type": "stream",
     "text": [
      "[('Possession_home', 421.664198311881), ('Possession_away', 419.81062314039434), ('Shots_on_target_home', 8.782441665663617), ('Shots_on_target_away', 7.396037301381689), ('Shots_home', 22.209855032690577), ('Shots_away', 18.651114834578262), ('Touches_home', 1672.9450410979687), ('Touches_away', 1627.9214695521432), ('Passes_home', 853.6608606060394), ('Passes_away', 820.9624289229962), ('Tackles_home', 14.462257682807621), ('Tackles_away', 14.809579847791026), ('Clearances_home', 12.388657234887198), ('Clearances_away', 14.60806502888385), ('Corners_home', 7.860642317099764), ('Corners_away', 6.471201785370187), ('Offsides_home', 2.7626312752498734), ('Offsides_away', 2.595120818834656), ('Yellow_cards_home', 2.990258155080378), ('Yellow_cards_away', 3.5407903131487735), ('Fouls_conceded_home', 14.534481363962977), ('Fouls_conceded_away', 14.864641611614935), ('Red_cards_home', 1.1122869843284866), ('Red_cards_away', 1.1380676710924316)]\n"
     ]
    }
   ],
   "source": [
    "from statsmodels.stats.outliers_influence import variance_inflation_factor\n",
    "\n",
    "vifs = []\n",
    "for i, feature in enumerate(list(df_wo)):\n",
    "    vif_tup = (feature, variance_inflation_factor(df_wo.values, i))\n",
    "    vifs.append( vif_tup )\n",
    "print(vifs)"
   ]
  },
  {
   "cell_type": "markdown",
   "metadata": {},
   "source": [
    "## Feature Engineering\n",
    "### Form\n",
    "Often, in the sport, commentators and analysts point to a team's form (essentially the recent performance) as being somewhat important in their performance in an individual game. The thinking goes: if this team has played well, they will continue to play well. It is not dissimilar to the concept of momentum, in a way. \n",
    "<< Math >>"
   ]
  },
  {
   "cell_type": "code",
   "execution_count": 9,
   "metadata": {},
   "outputs": [
    {
     "data": {
      "text/plain": [
       "['Possession_home',\n",
       " 'Possession_away',\n",
       " 'Shots_on_target_home',\n",
       " 'Shots_on_target_away',\n",
       " 'Shots_home',\n",
       " 'Shots_away',\n",
       " 'Touches_home',\n",
       " 'Touches_away',\n",
       " 'Passes_home',\n",
       " 'Passes_away',\n",
       " 'Tackles_home',\n",
       " 'Tackles_away',\n",
       " 'Clearances_home',\n",
       " 'Clearances_away',\n",
       " 'Corners_home',\n",
       " 'Corners_away',\n",
       " 'Offsides_home',\n",
       " 'Offsides_away',\n",
       " 'Yellow_cards_home',\n",
       " 'Yellow_cards_away',\n",
       " 'Fouls_conceded_home',\n",
       " 'Fouls_conceded_away',\n",
       " 'Red_cards_home',\n",
       " 'Red_cards_away',\n",
       " 'away_form_linear',\n",
       " 'home_form_linear',\n",
       " 'away_form_exp',\n",
       " 'home_form_exp']"
      ]
     },
     "execution_count": 9,
     "metadata": {},
     "output_type": "execute_result"
    }
   ],
   "source": [
    "scores = df[['MatchID', 'Home_team', 'Away_team', 'Score_home', 'Score_away']].values\n",
    "gd = gd_vectors(scores)\n",
    "\n",
    "away_form_linear = []\n",
    "home_form_linear = []\n",
    "away_form_exp = []\n",
    "home_form_exp = []\n",
    "for game in scores:\n",
    "    id, home_team, away_team, _, _ = game\n",
    "    away_form_exp.append( exponential_momentum(id, away_team, gd, alpha = .65) )\n",
    "    home_form_exp.append( exponential_momentum(id, home_team, gd, alpha = .65) )\n",
    "    away_form_linear.append( linear_momentum(id, away_team, gd) )\n",
    "    home_form_linear.append( linear_momentum(id, home_team, gd) )\n",
    "\n",
    "\n",
    "df_form = df_wo.copy()\n",
    "df_form['away_form_linear'] = pd.Series(away_form_linear)\n",
    "df_form['home_form_linear'] = pd.Series(home_form_linear)\n",
    "df_form['away_form_exp'] = pd.Series(away_form_exp)\n",
    "df_form['home_form_exp'] = pd.Series(home_form_exp)\n",
    "list(df_form)"
   ]
  },
  {
   "cell_type": "code",
   "execution_count": 10,
   "metadata": {},
   "outputs": [
    {
     "data": {
      "image/png": "[encoded data removed]",
      "text/plain": [
       "<Figure size 432x288 with 2 Axes>"
      ]
     },
     "metadata": {
      "needs_background": "light"
     },
     "output_type": "display_data"
    }
   ],
   "source": [
    "home_features = [ f for f in list(df_form) if 'home' in f ]\n",
    "corr = df_form[home_features].corr()\n",
    "_ = sns.heatmap(corr)"
   ]
  },
  {
   "cell_type": "markdown",
   "metadata": {},
   "source": [
    "### Transfer Spending / Market Value"
   ]
  },
  {
   "cell_type": "markdown",
   "metadata": {},
   "source": [
    "## Modeling"
   ]
  },
  {
   "cell_type": "code",
   "execution_count": 11,
   "metadata": {},
   "outputs": [],
   "source": [
    "from sklearn.linear_model import LogisticRegression\n",
    "from sklearn.neighbors import KNeighborsClassifier\n",
    "from sklearn.ensemble import RandomForestClassifier, GradientBoostingClassifier\n",
    "from sklearn.model_selection import train_test_split"
   ]
  },
  {
   "cell_type": "code",
   "execution_count": 12,
   "metadata": {},
   "outputs": [],
   "source": [
    "clfs = [LogisticRegression(), RandomForestClassifier(), GradientBoostingClassifier(),\n",
    "        KNeighborsClassifier()]"
   ]
  },
  {
   "cell_type": "code",
   "execution_count": 13,
   "metadata": {},
   "outputs": [],
   "source": [
    "X = df_wo.values\n",
    "df_form.drop(columns = ['home_form_linear', 'away_form_linear'], inplace = True)\n",
    "X_form = df_form.values\n",
    "y = df['target'].values\n",
    "\n",
    "X_train, X_test, y_train, y_test = train_test_split(X, y, test_size = .2)\n",
    "X_train_form, X_test_form, y_train_form, y_test_form = train_test_split(X_form, y, test_size = .2)"
   ]
  },
  {
   "cell_type": "code",
   "execution_count": 14,
   "metadata": {},
   "outputs": [
    {
     "name": "stderr",
     "output_type": "stream",
     "text": [
      "/home/thomas/.local/lib/python3.6/site-packages/sklearn/linear_model/logistic.py:433: FutureWarning: Default solver will be changed to 'lbfgs' in 0.22. Specify a solver to silence this warning.\n",
      "  FutureWarning)\n",
      "/home/thomas/.local/lib/python3.6/site-packages/sklearn/linear_model/logistic.py:460: FutureWarning: Default multi_class will be changed to 'auto' in 0.22. Specify the multi_class option to silence this warning.\n",
      "  \"this warning.\", FutureWarning)\n",
      "/home/thomas/.local/lib/python3.6/site-packages/sklearn/ensemble/forest.py:246: FutureWarning: The default value of n_estimators will change from 10 in version 0.20 to 100 in 0.22.\n",
      "  \"10 in version 0.20 to 100 in 0.22.\", FutureWarning)\n"
     ]
    },
    {
     "name": "stdout",
     "output_type": "stream",
     "text": [
      "<class 'sklearn.linear_model.logistic.LogisticRegression'>\n",
      "score =  0.6304824561403509 \n",
      "\n",
      "<class 'sklearn.ensemble.forest.RandomForestClassifier'>\n",
      "score =  0.581140350877193 \n",
      "\n",
      "<class 'sklearn.ensemble.gradient_boosting.GradientBoostingClassifier'>\n",
      "score =  0.631578947368421 \n",
      "\n",
      "<class 'sklearn.neighbors.classification.KNeighborsClassifier'>\n",
      "score =  0.44298245614035087 \n",
      "\n"
     ]
    }
   ],
   "source": [
    "for clf in clfs:\n",
    "    clf.fit(X_train, y_train)\n",
    "    print(type(clf))\n",
    "    print(\"score = \", clf.score(X_test, y_test), \"\\n\")"
   ]
  },
  {
   "cell_type": "code",
   "execution_count": 15,
   "metadata": {},
   "outputs": [
    {
     "name": "stderr",
     "output_type": "stream",
     "text": [
      "/home/thomas/.local/lib/python3.6/site-packages/sklearn/linear_model/logistic.py:433: FutureWarning: Default solver will be changed to 'lbfgs' in 0.22. Specify a solver to silence this warning.\n",
      "  FutureWarning)\n",
      "/home/thomas/.local/lib/python3.6/site-packages/sklearn/linear_model/logistic.py:460: FutureWarning: Default multi_class will be changed to 'auto' in 0.22. Specify the multi_class option to silence this warning.\n",
      "  \"this warning.\", FutureWarning)\n"
     ]
    },
    {
     "name": "stdout",
     "output_type": "stream",
     "text": [
      "<class 'sklearn.linear_model.logistic.LogisticRegression'>\n",
      "score =  0.6425438596491229 \n",
      "\n",
      "<class 'sklearn.ensemble.forest.RandomForestClassifier'>\n",
      "score =  0.5592105263157895 \n",
      "\n",
      "<class 'sklearn.ensemble.gradient_boosting.GradientBoostingClassifier'>\n",
      "score =  0.631578947368421 \n",
      "\n",
      "<class 'sklearn.neighbors.classification.KNeighborsClassifier'>\n",
      "score =  0.44846491228070173 \n",
      "\n"
     ]
    }
   ],
   "source": [
    "for clf in clfs:\n",
    "    clf.fit(X_train_form, y_train_form)\n",
    "    print(type(clf))\n",
    "    print(\"score = \", clf.score(X_test_form, y_test_form), \"\\n\")"
   ]
  },
  {
   "cell_type": "markdown",
   "metadata": {},
   "source": [
    "### Coefficient Investigation"
   ]
  },
  {
   "cell_type": "code",
   "execution_count": null,
   "metadata": {},
   "outputs": [],
   "source": [
    "# change to clfs[i]\n",
    "for i, feature in enumerate(list(df_wo)):\n",
    "    print(feature, \": \", lr.coef_[:,i])"
   ]
  },
  {
   "cell_type": "markdown",
   "metadata": {},
   "source": [
    "### Variance Inflation"
   ]
  },
  {
   "cell_type": "code",
   "execution_count": null,
   "metadata": {},
   "outputs": [],
   "source": []
  }
 ],
 "metadata": {
  "kernelspec": {
   "display_name": "Python 3",
   "language": "python",
   "name": "python3"
  },
  "language_info": {
   "codemirror_mode": {
    "name": "ipython",
    "version": 3
   },
   "file_extension": ".py",
   "mimetype": "text/x-python",
   "name": "python",
   "nbconvert_exporter": "python",
   "pygments_lexer": "ipython3",
   "version": "3.6.7"
  }
 },
 "nbformat": 4,
 "nbformat_minor": 2
}
