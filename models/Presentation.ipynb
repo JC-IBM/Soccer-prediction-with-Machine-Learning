{
 "cells": [
  {
   "cell_type": "markdown",
   "metadata": {},
   "source": [
    "# Table of Contents\n",
    "1. [Introduction](##introduction)\n",
    "2. [Model Overview](##model-overview)\n",
    "3. [Feature Selection](##feature-selection)\n",
    "4. [Expected Goals](##expected-goals)\n",
    "5. [Season Simulation](##season-simulation)\n",
    "6. [Conclusion](##conclusion)\n",
    "\n",
    "## Introduction <a name=\"introduction\"></a>\n",
    "The Premier League is the most-watched professional soccer league on the planet. << STATS >>. "
   ]
  },
  {
   "cell_type": "markdown",
   "metadata": {},
   "source": [
    "## Model Overview <a name=\"model-overview\"></a>\n",
    "In the hopes of predicting the outcome of individual games, we considered data from the Premier League's official website on game-level statistics and aggregated financial information regarding teams transfer business. \n",
    "\n",
    "### Multi-class Model\n",
    "Firstly, we consider a simple multi-class model where for each game there were 3 potential outcomes ($y$) where\n",
    "\n",
    "$$\n",
    "y = \\cases{-1 \\,if\\,away\\,team\\,wins\\\\ \n",
    "            0 \\,draw\\\\\n",
    "            1 \\,if\\,home\\,team\\,wins}\n",
    "$$\n",
    "\n",
    "This is a transformed variable that we will calculate using a `score_to_win()` function provided in our `helper` suite. \n",
    "\n",
    "#### Prepare Data"
   ]
  },
  {
   "cell_type": "code",
   "execution_count": 1,
   "metadata": {},
   "outputs": [],
   "source": [
    "import pandas as pd\n",
    "from helpers import *\n",
    "%matplotlib inline"
   ]
  },
  {
   "cell_type": "code",
   "execution_count": 2,
   "metadata": {},
   "outputs": [
    {
     "data": {
      "text/html": [
       "<div>\n",
       "<style scoped>\n",
       "    .dataframe tbody tr th:only-of-type {\n",
       "        vertical-align: middle;\n",
       "    }\n",
       "\n",
       "    .dataframe tbody tr th {\n",
       "        vertical-align: top;\n",
       "    }\n",
       "\n",
       "    .dataframe thead th {\n",
       "        text-align: right;\n",
       "    }\n",
       "</style>\n",
       "<table border=\"1\" class=\"dataframe\">\n",
       "  <thead>\n",
       "    <tr style=\"text-align: right;\">\n",
       "      <th></th>\n",
       "      <th>MatchID</th>\n",
       "      <th>Home_team</th>\n",
       "      <th>Away_team</th>\n",
       "      <th>Score_home</th>\n",
       "      <th>Score_away</th>\n",
       "      <th>Possession_home</th>\n",
       "      <th>Possession_away</th>\n",
       "      <th>Shots_on_target_home</th>\n",
       "      <th>Shots_on_target_away</th>\n",
       "      <th>Shots_home</th>\n",
       "      <th>...</th>\n",
       "      <th>year</th>\n",
       "      <th>Expenditures_home</th>\n",
       "      <th>Arrivals_home</th>\n",
       "      <th>Income_home</th>\n",
       "      <th>Departures_home</th>\n",
       "      <th>Expenditures_away</th>\n",
       "      <th>Arrivals_away</th>\n",
       "      <th>Income_away</th>\n",
       "      <th>Departures_away</th>\n",
       "      <th>target</th>\n",
       "    </tr>\n",
       "  </thead>\n",
       "  <tbody>\n",
       "    <tr>\n",
       "      <th>373</th>\n",
       "      <td>5567</td>\n",
       "      <td>Arsenal</td>\n",
       "      <td>Aston Villa</td>\n",
       "      <td>1</td>\n",
       "      <td>1</td>\n",
       "      <td>72.9</td>\n",
       "      <td>27.1</td>\n",
       "      <td>7</td>\n",
       "      <td>3</td>\n",
       "      <td>24</td>\n",
       "      <td>...</td>\n",
       "      <td>2007</td>\n",
       "      <td>17.10</td>\n",
       "      <td>18</td>\n",
       "      <td>14.85</td>\n",
       "      <td>21</td>\n",
       "      <td>28.16</td>\n",
       "      <td>17</td>\n",
       "      <td>2.08</td>\n",
       "      <td>18</td>\n",
       "      <td>0</td>\n",
       "    </tr>\n",
       "    <tr>\n",
       "      <th>379</th>\n",
       "      <td>5568</td>\n",
       "      <td>Bolton</td>\n",
       "      <td>Spurs</td>\n",
       "      <td>2</td>\n",
       "      <td>0</td>\n",
       "      <td>37.8</td>\n",
       "      <td>62.2</td>\n",
       "      <td>4</td>\n",
       "      <td>2</td>\n",
       "      <td>13</td>\n",
       "      <td>...</td>\n",
       "      <td>2007</td>\n",
       "      <td>19.38</td>\n",
       "      <td>16</td>\n",
       "      <td>4.39</td>\n",
       "      <td>16</td>\n",
       "      <td>69.54</td>\n",
       "      <td>23</td>\n",
       "      <td>44.06</td>\n",
       "      <td>23</td>\n",
       "      <td>1</td>\n",
       "    </tr>\n",
       "    <tr>\n",
       "      <th>374</th>\n",
       "      <td>5569</td>\n",
       "      <td>Everton</td>\n",
       "      <td>Watford</td>\n",
       "      <td>2</td>\n",
       "      <td>1</td>\n",
       "      <td>47.0</td>\n",
       "      <td>53.0</td>\n",
       "      <td>2</td>\n",
       "      <td>7</td>\n",
       "      <td>8</td>\n",
       "      <td>...</td>\n",
       "      <td>2007</td>\n",
       "      <td>20.41</td>\n",
       "      <td>11</td>\n",
       "      <td>2.85</td>\n",
       "      <td>16</td>\n",
       "      <td>11.97</td>\n",
       "      <td>29</td>\n",
       "      <td>15.39</td>\n",
       "      <td>23</td>\n",
       "      <td>1</td>\n",
       "    </tr>\n",
       "    <tr>\n",
       "      <th>375</th>\n",
       "      <td>5570</td>\n",
       "      <td>Newcastle</td>\n",
       "      <td>Wigan</td>\n",
       "      <td>2</td>\n",
       "      <td>1</td>\n",
       "      <td>55.3</td>\n",
       "      <td>44.7</td>\n",
       "      <td>5</td>\n",
       "      <td>4</td>\n",
       "      <td>8</td>\n",
       "      <td>...</td>\n",
       "      <td>2007</td>\n",
       "      <td>36.34</td>\n",
       "      <td>8</td>\n",
       "      <td>12.74</td>\n",
       "      <td>14</td>\n",
       "      <td>29.24</td>\n",
       "      <td>23</td>\n",
       "      <td>27.73</td>\n",
       "      <td>25</td>\n",
       "      <td>1</td>\n",
       "    </tr>\n",
       "    <tr>\n",
       "      <th>376</th>\n",
       "      <td>5571</td>\n",
       "      <td>Portsmouth</td>\n",
       "      <td>Blackburn</td>\n",
       "      <td>3</td>\n",
       "      <td>0</td>\n",
       "      <td>44.3</td>\n",
       "      <td>55.7</td>\n",
       "      <td>11</td>\n",
       "      <td>3</td>\n",
       "      <td>21</td>\n",
       "      <td>...</td>\n",
       "      <td>2007</td>\n",
       "      <td>10.37</td>\n",
       "      <td>28</td>\n",
       "      <td>1.43</td>\n",
       "      <td>32</td>\n",
       "      <td>18.84</td>\n",
       "      <td>21</td>\n",
       "      <td>19.28</td>\n",
       "      <td>25</td>\n",
       "      <td>1</td>\n",
       "    </tr>\n",
       "  </tbody>\n",
       "</table>\n",
       "<p>5 rows × 39 columns</p>\n",
       "</div>"
      ],
      "text/plain": [
       "     MatchID   Home_team    Away_team  Score_home  Score_away  \\\n",
       "373     5567     Arsenal  Aston Villa           1           1   \n",
       "379     5568      Bolton        Spurs           2           0   \n",
       "374     5569     Everton      Watford           2           1   \n",
       "375     5570   Newcastle        Wigan           2           1   \n",
       "376     5571  Portsmouth    Blackburn           3           0   \n",
       "\n",
       "     Possession_home  Possession_away  Shots_on_target_home  \\\n",
       "373             72.9             27.1                     7   \n",
       "379             37.8             62.2                     4   \n",
       "374             47.0             53.0                     2   \n",
       "375             55.3             44.7                     5   \n",
       "376             44.3             55.7                    11   \n",
       "\n",
       "     Shots_on_target_away  Shots_home  ...  year  Expenditures_home  \\\n",
       "373                     3          24  ...  2007              17.10   \n",
       "379                     2          13  ...  2007              19.38   \n",
       "374                     7           8  ...  2007              20.41   \n",
       "375                     4           8  ...  2007              36.34   \n",
       "376                     3          21  ...  2007              10.37   \n",
       "\n",
       "     Arrivals_home  Income_home  Departures_home  Expenditures_away  \\\n",
       "373             18        14.85               21              28.16   \n",
       "379             16         4.39               16              69.54   \n",
       "374             11         2.85               16              11.97   \n",
       "375              8        12.74               14              29.24   \n",
       "376             28         1.43               32              18.84   \n",
       "\n",
       "     Arrivals_away  Income_away  Departures_away  target  \n",
       "373             17         2.08               18       0  \n",
       "379             23        44.06               23       1  \n",
       "374             29        15.39               23       1  \n",
       "375             23        27.73               25       1  \n",
       "376             21        19.28               25       1  \n",
       "\n",
       "[5 rows x 39 columns]"
      ]
     },
     "execution_count": 2,
     "metadata": {},
     "output_type": "execute_result"
    }
   ],
   "source": [
    "DATA_SRC = '../Data/PL_site_2006_2018/masterdata.csv'\n",
    "df = pd.read_csv(DATA_SRC)\n",
    "\n",
    "# create win/lose label\n",
    "df['target'] = df[['Score_home', 'Score_away']].apply(score_to_win, axis = 1)\n",
    "df.sort_values('MatchID', inplace = True)\n",
    "df.head()"
   ]
  },
  {
   "cell_type": "markdown",
   "metadata": {},
   "source": [
    "In order to fit our model appropriately, we have to consider an $X$ matrix of values that has no information regarding our target variables. So, here we will drop the features that might provide the model information on $y$, i.e. `MatchID`, `Home_team`, `Away_team`, `Score_home`, `Score_away`, and `year` along with our `target`. "
   ]
  },
  {
   "cell_type": "code",
   "execution_count": 3,
   "metadata": {},
   "outputs": [],
   "source": [
    "FEATURES_TO_DROP = ['target', 'MatchID', 'Home_team', 'Away_team', 'Score_home', 'Score_away', 'year']\n",
    "df_wo = df.drop(columns = FEATURES_TO_DROP)"
   ]
  },
  {
   "cell_type": "markdown",
   "metadata": {},
   "source": [
    "### EDA\n",
    "Prior to setting up any model it's important to visualize the features of our data so that we can get a sense of what might work. Firstly, we'll visualize the pair-wise correlation of variables. Given that the game-stats are symmetric (each home & away team has a value) we'll just investigate the home-team features."
   ]
  },
  {
   "cell_type": "code",
   "execution_count": 4,
   "metadata": {},
   "outputs": [
    {
     "data": {
      "image/png": "[encoded data removed]",
      "text/plain": [
       "<Figure size 432x288 with 2 Axes>"
      ]
     },
     "metadata": {
      "needs_background": "light"
     },
     "output_type": "display_data"
    }
   ],
   "source": [
    "import seaborn as sns\n",
    "home_features = [ f for f in list(df_wo) if '_home' in f ]\n",
    "corr = df_wo[home_features].corr()\n",
    "_ = sns.heatmap(corr)"
   ]
  },
  {
   "cell_type": "markdown",
   "metadata": {},
   "source": [
    "<< COMMENT >>\n",
    "\n",
    "Now, let's investigate their various distributions."
   ]
  },
  {
   "cell_type": "code",
   "execution_count": 5,
   "metadata": {},
   "outputs": [
    {
     "data": {
      "image/png": "[encoded data removed]",
      "text/plain": [
       "<Figure size 1080x1080 with 16 Axes>"
      ]
     },
     "metadata": {
      "needs_background": "light"
     },
     "output_type": "display_data"
    }
   ],
   "source": [
    "import matplotlib.pyplot as plt\n",
    "n_figs = len(home_features)\n",
    "columns = 4\n",
    "\n",
    "fig, axes = plt.subplots(int(n_figs/columns), columns, figsize = (15, 15))\n",
    "plt.subplots_adjust(hspace = .25)\n",
    "\n",
    "for i, feature in enumerate(home_features):\n",
    "    row = int(i / columns)\n",
    "    column = i % columns\n",
    "    axes[row, column].hist(df[feature].values)\n",
    "    axes[row, column].set_title(feature)"
   ]
  },
  {
   "cell_type": "markdown",
   "metadata": {},
   "source": [
    "What about the distribution of our target variable?"
   ]
  },
  {
   "cell_type": "code",
   "execution_count": 6,
   "metadata": {},
   "outputs": [
    {
     "data": {
      "image/png": "[encoded data removed]",
      "text/plain": [
       "<Figure size 432x288 with 1 Axes>"
      ]
     },
     "metadata": {
      "needs_background": "light"
     },
     "output_type": "display_data"
    }
   ],
   "source": [
    "_ = df.target.hist()"
   ]
  },
  {
   "cell_type": "code",
   "execution_count": 7,
   "metadata": {},
   "outputs": [
    {
     "data": {
      "image/png": "[encoded data removed]",
      "text/plain": [
       "<Figure size 360x360 with 6 Axes>"
      ]
     },
     "metadata": {
      "needs_background": "light"
     },
     "output_type": "display_data"
    }
   ],
   "source": [
    "_ = sns.pairplot(df[['Shots_on_target_home', 'Score_home']])"
   ]
  },
  {
   "cell_type": "markdown",
   "metadata": {},
   "source": [
    "## <a name = \"feature-selection\"></a> Feature Selection \n",
    "<< EXPLANATION >>"
   ]
  },
  {
   "cell_type": "markdown",
   "metadata": {},
   "source": [
    "### Feature Engineering\n",
    "#### Form"
   ]
  },
  {
   "cell_type": "code",
   "execution_count": 8,
   "metadata": {},
   "outputs": [],
   "source": [
    "scores = df[['MatchID', 'Home_team', 'Away_team', 'Score_home', 'Score_away']].values\n",
    "gd = gd_vectors(scores)\n",
    "\n",
    "away_form_exp, home_form_exp = [], []\n",
    "for game in scores:\n",
    "    id, home_team, away_team, _, _ = game\n",
    "    away_form_exp.append( exponential_momentum(id, away_team, gd, alpha = .65) )\n",
    "    home_form_exp.append( exponential_momentum(id, home_team, gd, alpha = .65) )\n",
    "\n",
    "df_form = df.copy()\n",
    "df_form['Form_away'] = pd.Series(away_form_exp)\n",
    "df_form['Form_home'] = pd.Series(home_form_exp)"
   ]
  },
  {
   "cell_type": "code",
   "execution_count": 9,
   "metadata": {
    "scrolled": false
   },
   "outputs": [
    {
     "data": {
      "image/png": "[encoded data removed]",
      "text/plain": [
       "<Figure size 432x288 with 2 Axes>"
      ]
     },
     "metadata": {
      "needs_background": "light"
     },
     "output_type": "display_data"
    }
   ],
   "source": [
    "corr = df_form[['Score_home', 'Shots_on_target_home','Possession_home','Form_home']].corr()\n",
    "_ = sns.heatmap(corr)"
   ]
  },
  {
   "cell_type": "markdown",
   "metadata": {},
   "source": [
    "<< ADD ANOVA & BACKWARD SELECTION RESULTS >>"
   ]
  },
  {
   "cell_type": "markdown",
   "metadata": {},
   "source": [
    "### Testing of Full Model\n",
    "Now, just for completeness and given we have a smaller dataset, we should fit a suite of full models and from there we can investigate potential performance gains. From the beginning we'll start with some general model and perform cross-validation & other steps later."
   ]
  },
  {
   "cell_type": "code",
   "execution_count": 10,
   "metadata": {},
   "outputs": [],
   "source": [
    "from sklearn.linear_model import LogisticRegression\n",
    "from sklearn.neighbors import KNeighborsClassifier\n",
    "from sklearn.naive_bayes import GaussianNB\n",
    "from sklearn.ensemble import RandomForestClassifier, GradientBoostingClassifier\n",
    "from sklearn.neural_network import MLPClassifier\n",
    "from sklearn.svm import SVC"
   ]
  },
  {
   "cell_type": "code",
   "execution_count": 25,
   "metadata": {},
   "outputs": [
    {
     "name": "stderr",
     "output_type": "stream",
     "text": [
      "/home/thomas/.local/lib/python3.6/site-packages/sklearn/linear_model/logistic.py:433: FutureWarning: Default solver will be changed to 'lbfgs' in 0.22. Specify a solver to silence this warning.\n",
      "  FutureWarning)\n",
      "/home/thomas/.local/lib/python3.6/site-packages/sklearn/linear_model/logistic.py:460: FutureWarning: Default multi_class will be changed to 'auto' in 0.22. Specify the multi_class option to silence this warning.\n",
      "  \"this warning.\", FutureWarning)\n",
      "/home/thomas/.local/lib/python3.6/site-packages/sklearn/ensemble/forest.py:246: FutureWarning: The default value of n_estimators will change from 10 in version 0.20 to 100 in 0.22.\n",
      "  \"10 in version 0.20 to 100 in 0.22.\", FutureWarning)\n",
      "/home/thomas/.local/lib/python3.6/site-packages/sklearn/svm/base.py:196: FutureWarning: The default value of gamma will change from 'auto' to 'scale' in version 0.22 to account better for unscaled features. Set gamma explicitly to 'auto' or 'scale' to avoid this warning.\n",
      "  \"avoid this warning.\", FutureWarning)\n"
     ]
    },
    {
     "data": {
      "text/plain": [
       "{'LogisticRegression': [('score', 0.6513157894736842)],\n",
       " 'RandomForestClassifier': [('score', 0.5942982456140351)],\n",
       " 'GradientBoostingClassifier': [('score', 0.6348684210526315)],\n",
       " 'KNeighborsClassifier': [('score', 0.47478070175438597)],\n",
       " 'GaussianNB': [('score', 0.555921052631579)],\n",
       " 'MLPClassifier': [('score', 0.6348684210526315)],\n",
       " 'SVC': [('score', 0.4649122807017544)]}"
      ]
     },
     "execution_count": 25,
     "metadata": {},
     "output_type": "execute_result"
    }
   ],
   "source": [
    "clfs = [LogisticRegression(), RandomForestClassifier(), GradientBoostingClassifier(),\n",
    "        KNeighborsClassifier(), GaussianNB(), MLPClassifier(), SVC()]\n",
    "\n",
    "# first run without form feature\n",
    "X = df_wo.values\n",
    "y = df['target'].values\n",
    "\n",
    "run_model_diagnostics(X, y, clfs)"
   ]
  },
  {
   "cell_type": "code",
   "execution_count": 26,
   "metadata": {},
   "outputs": [],
   "source": [
    "# now we'll repeat with the form variable included"
   ]
  },
  {
   "cell_type": "markdown",
   "metadata": {},
   "source": [
    "<< INVESTIGATION OF COEFFICIENTS >>\n",
    "### Feature Set Reduction"
   ]
  },
  {
   "cell_type": "code",
   "execution_count": null,
   "metadata": {},
   "outputs": [],
   "source": []
  },
  {
   "cell_type": "markdown",
   "metadata": {},
   "source": [
    "## Expected Goals\n",
    "The real idea, here, though is to generate a model that predicts the number of goals scored by each team within a single game. From there, of course, we can make predictions about who will win. I.e. now the function of interest becomes:\n",
    "\n",
    "$$\n",
    "team\\,features\\mapsto goals\n",
    "$$\n",
    "\n",
    "We can consider both transfer market spending along with the game-level statistics discussed above as team features. These should (if our logic is sound) form a generating function for goals within a game. With such a function, we can make predictions and, even, simulations over a period of time."
   ]
  },
  {
   "cell_type": "code",
   "execution_count": 34,
   "metadata": {},
   "outputs": [
    {
     "data": {
      "image/png": "[encoded data removed]",
      "text/plain": [
       "<Figure size 576x504 with 2 Axes>"
      ]
     },
     "metadata": {
      "needs_background": "light"
     },
     "output_type": "display_data"
    }
   ],
   "source": [
    "fig, (ax1, ax2) = plt.subplots(2, 1, figsize = (8,7))\n",
    "\n",
    "ax1.hist(df.Score_home)\n",
    "ax1.set_title(\"Score_home\")\n",
    "ax2.hist(df.Score_away)\n",
    "_ = ax2.set_title(\"Score_away\")"
   ]
  },
  {
   "cell_type": "markdown",
   "metadata": {},
   "source": [
    "Neither of these look like a normal distribution. If anything, and this makes intuitive sense, they appear to be following an exponential or Poisson distribution. Both are used in various applications to predict waiting times of random, independent events. In a sense, a goal in a game is a pseudo-random event. If you've ever watched their occurence does not rely on the entire game but rather a very short passage of play. How can we use this knowledge to make predictions?\n",
    "### Data Preparation\n",
    "\n",
    "Now, in order to perform this analysis we'll need to melt out each individual game above such that each individual row consists of one team's result (i.e. there will be two rows per game)."
   ]
  },
  {
   "cell_type": "code",
   "execution_count": 50,
   "metadata": {},
   "outputs": [],
   "source": [
    "FEATURES_TO_DROP = ['Shots_home', 'Shots_away', 'Touches_home', \n",
    "                                 'Touches_away', 'Possession_home', 'Possession_away',\n",
    "                                 'Tackles_home', 'Tackles_away', 'Arrivals_home', 'Arrivals_away',\n",
    "                                 'Departures_home', 'Departures_away', 'Corners_home', 'Corners_away',\n",
    "                                 'Red_cards_home', 'Red_cards_away', 'Yellow_cards_home', 'Yellow_cards_away']\n",
    "TARGET_PROXIES = ['MatchID', 'Team', 'year', 'Score']"
   ]
  },
  {
   "cell_type": "code",
   "execution_count": 45,
   "metadata": {},
   "outputs": [
    {
     "name": "stdout",
     "output_type": "stream",
     "text": [
      "['MatchID', 'Home_team', 'Away_team', 'Score_home', 'Score_away', 'Shots_on_target_home', 'Shots_on_target_away', 'Passes_home', 'Passes_away', 'Clearances_home', 'Clearances_away', 'Offsides_home', 'Offsides_away', 'Fouls_conceded_home', 'Fouls_conceded_away', 'year', 'Expenditures_home', 'Income_home', 'Expenditures_away', 'Income_away', 'target']\n"
     ]
    }
   ],
   "source": [
    "df_c = df.drop(columns = FEATURES_TO_DROP)\n",
    "print(list(df_c))"
   ]
  },
  {
   "cell_type": "code",
   "execution_count": 46,
   "metadata": {},
   "outputs": [
    {
     "name": "stdout",
     "output_type": "stream",
     "text": [
      "['MatchID', 'Home_team', 'year', 'Score_home', 'Shots_on_target_home', 'Passes_home', 'Clearances_home', 'Offsides_home', 'Fouls_conceded_home', 'Expenditures_home', 'Income_home'] \n",
      "\n",
      "['MatchID', 'Away_team', 'year', 'Score_away', 'Shots_on_target_away', 'Passes_away', 'Clearances_away', 'Offsides_away', 'Fouls_conceded_away', 'Expenditures_away', 'Income_away']\n"
     ]
    }
   ],
   "source": [
    "home_attributes = ['MatchID', 'Home_team', 'year'] + [a for a in list(df_c) if 'home' in a]\n",
    "away_attributes = ['MatchID', 'Away_team', 'year'] + [a for a in list(df_c) if 'away' in a]\n",
    "\n",
    "print(home_attributes, '\\n')\n",
    "print(away_attributes)"
   ]
  },
  {
   "cell_type": "code",
   "execution_count": 47,
   "metadata": {},
   "outputs": [
    {
     "name": "stdout",
     "output_type": "stream",
     "text": [
      "[5567, 'Aston Villa', 2007, 1, 3, 232, 51, 6, 19, 28.16, 2.08, 1]\n"
     ]
    }
   ],
   "source": [
    "melted = []\n",
    "\n",
    "for _, row in df_c.iterrows():\n",
    "    home_team = [row[attr] for attr in away_attributes] + [1]\n",
    "    away_team = [row[attr] for attr in home_attributes] + [0]\n",
    "    melted.append(home_team)\n",
    "    melted.append(away_team)\n",
    "\n",
    "print(melted[0])"
   ]
  },
  {
   "cell_type": "code",
   "execution_count": 48,
   "metadata": {},
   "outputs": [
    {
     "name": "stdout",
     "output_type": "stream",
     "text": [
      "['MatchID', 'Team', 'year', 'Score', 'Shots', 'Passes', 'Clearances', 'Offsides', 'Fouls', 'Expenditures', 'Income', 'IsHome']\n"
     ]
    }
   ],
   "source": [
    "features = ['MatchID', 'Team', 'year'] + [a.split('_')[0] for a in list(df_c) if 'home' in a] + ['IsHome']\n",
    "print(features)"
   ]
  },
  {
   "cell_type": "code",
   "execution_count": 49,
   "metadata": {},
   "outputs": [
    {
     "data": {
      "text/html": [
       "<div>\n",
       "<style scoped>\n",
       "    .dataframe tbody tr th:only-of-type {\n",
       "        vertical-align: middle;\n",
       "    }\n",
       "\n",
       "    .dataframe tbody tr th {\n",
       "        vertical-align: top;\n",
       "    }\n",
       "\n",
       "    .dataframe thead th {\n",
       "        text-align: right;\n",
       "    }\n",
       "</style>\n",
       "<table border=\"1\" class=\"dataframe\">\n",
       "  <thead>\n",
       "    <tr style=\"text-align: right;\">\n",
       "      <th></th>\n",
       "      <th>MatchID</th>\n",
       "      <th>Team</th>\n",
       "      <th>year</th>\n",
       "      <th>Score</th>\n",
       "      <th>Shots</th>\n",
       "      <th>Passes</th>\n",
       "      <th>Clearances</th>\n",
       "      <th>Offsides</th>\n",
       "      <th>Fouls</th>\n",
       "      <th>Expenditures</th>\n",
       "      <th>Income</th>\n",
       "      <th>IsHome</th>\n",
       "    </tr>\n",
       "  </thead>\n",
       "  <tbody>\n",
       "    <tr>\n",
       "      <th>0</th>\n",
       "      <td>5567</td>\n",
       "      <td>Aston Villa</td>\n",
       "      <td>2007</td>\n",
       "      <td>1</td>\n",
       "      <td>3</td>\n",
       "      <td>232</td>\n",
       "      <td>51</td>\n",
       "      <td>6</td>\n",
       "      <td>19</td>\n",
       "      <td>28.16</td>\n",
       "      <td>2.08</td>\n",
       "      <td>1</td>\n",
       "    </tr>\n",
       "    <tr>\n",
       "      <th>1</th>\n",
       "      <td>5567</td>\n",
       "      <td>Arsenal</td>\n",
       "      <td>2007</td>\n",
       "      <td>1</td>\n",
       "      <td>7</td>\n",
       "      <td>631</td>\n",
       "      <td>14</td>\n",
       "      <td>2</td>\n",
       "      <td>10</td>\n",
       "      <td>17.10</td>\n",
       "      <td>14.85</td>\n",
       "      <td>0</td>\n",
       "    </tr>\n",
       "    <tr>\n",
       "      <th>2</th>\n",
       "      <td>5568</td>\n",
       "      <td>Spurs</td>\n",
       "      <td>2007</td>\n",
       "      <td>0</td>\n",
       "      <td>2</td>\n",
       "      <td>427</td>\n",
       "      <td>43</td>\n",
       "      <td>1</td>\n",
       "      <td>22</td>\n",
       "      <td>69.54</td>\n",
       "      <td>44.06</td>\n",
       "      <td>1</td>\n",
       "    </tr>\n",
       "    <tr>\n",
       "      <th>3</th>\n",
       "      <td>5568</td>\n",
       "      <td>Bolton</td>\n",
       "      <td>2007</td>\n",
       "      <td>2</td>\n",
       "      <td>4</td>\n",
       "      <td>243</td>\n",
       "      <td>20</td>\n",
       "      <td>3</td>\n",
       "      <td>22</td>\n",
       "      <td>19.38</td>\n",
       "      <td>4.39</td>\n",
       "      <td>0</td>\n",
       "    </tr>\n",
       "    <tr>\n",
       "      <th>4</th>\n",
       "      <td>5569</td>\n",
       "      <td>Watford</td>\n",
       "      <td>2007</td>\n",
       "      <td>1</td>\n",
       "      <td>7</td>\n",
       "      <td>321</td>\n",
       "      <td>32</td>\n",
       "      <td>1</td>\n",
       "      <td>15</td>\n",
       "      <td>11.97</td>\n",
       "      <td>15.39</td>\n",
       "      <td>1</td>\n",
       "    </tr>\n",
       "  </tbody>\n",
       "</table>\n",
       "</div>"
      ],
      "text/plain": [
       "   MatchID         Team  year  Score  Shots  Passes  Clearances  Offsides  \\\n",
       "0     5567  Aston Villa  2007      1      3     232          51         6   \n",
       "1     5567      Arsenal  2007      1      7     631          14         2   \n",
       "2     5568        Spurs  2007      0      2     427          43         1   \n",
       "3     5568       Bolton  2007      2      4     243          20         3   \n",
       "4     5569      Watford  2007      1      7     321          32         1   \n",
       "\n",
       "   Fouls  Expenditures  Income  IsHome  \n",
       "0     19         28.16    2.08       1  \n",
       "1     10         17.10   14.85       0  \n",
       "2     22         69.54   44.06       1  \n",
       "3     22         19.38    4.39       0  \n",
       "4     15         11.97   15.39       1  "
      ]
     },
     "execution_count": 49,
     "metadata": {},
     "output_type": "execute_result"
    }
   ],
   "source": [
    "melted_df = pd.DataFrame(melted, columns = features)\n",
    "melted_df.head()"
   ]
  },
  {
   "cell_type": "code",
   "execution_count": 63,
   "metadata": {},
   "outputs": [],
   "source": [
    "from sklearn.svm import SVR\n",
    "from sklearn.neural_network import MLPRegressor\n",
    "from sklearn.neighbors import KNeighborsRegressor\n",
    "from sklearn.linear_model import Lasso, LassoLars, Ridge, BayesianRidge, SGDRegressor, LinearRegression\n",
    "from sklearn.ensemble import AdaBoostRegressor, ExtraTreesRegressor, GradientBoostingRegressor, RandomForestRegressor"
   ]
  },
  {
   "cell_type": "code",
   "execution_count": 64,
   "metadata": {},
   "outputs": [],
   "source": [
    "regressors = [SVR(), MLPRegressor(), KNeighborsRegressor(), Lasso(), LassoLars(), Ridge(), BayesianRidge(),\n",
    "              SGDRegressor(), AdaBoostRegressor(), ExtraTreesRegressor(), GradientBoostingRegressor(),\n",
    "              RandomForestRegressor(), LinearRegression()]"
   ]
  },
  {
   "cell_type": "code",
   "execution_count": 57,
   "metadata": {},
   "outputs": [
    {
     "name": "stderr",
     "output_type": "stream",
     "text": [
      "/home/thomas/.local/lib/python3.6/site-packages/sklearn/svm/base.py:196: FutureWarning: The default value of gamma will change from 'auto' to 'scale' in version 0.22 to account better for unscaled features. Set gamma explicitly to 'auto' or 'scale' to avoid this warning.\n",
      "  \"avoid this warning.\", FutureWarning)\n",
      "/home/thomas/.local/lib/python3.6/site-packages/sklearn/linear_model/stochastic_gradient.py:166: FutureWarning: max_iter and tol parameters have been added in SGDRegressor in 0.19. If both are left unset, they default to max_iter=5 and tol=None. If tol is not None, max_iter defaults to max_iter=1000. From 0.21, default max_iter will be 1000, and default tol will be 1e-3.\n",
      "  FutureWarning)\n",
      "/home/thomas/.local/lib/python3.6/site-packages/sklearn/ensemble/forest.py:246: FutureWarning: The default value of n_estimators will change from 10 in version 0.20 to 100 in 0.22.\n",
      "  \"10 in version 0.20 to 100 in 0.22.\", FutureWarning)\n",
      "/home/thomas/.local/lib/python3.6/site-packages/sklearn/ensemble/forest.py:246: FutureWarning: The default value of n_estimators will change from 10 in version 0.20 to 100 in 0.22.\n",
      "  \"10 in version 0.20 to 100 in 0.22.\", FutureWarning)\n"
     ]
    },
    {
     "data": {
      "text/plain": [
       "{'SVR': [('score', -0.01571468849561386)],\n",
       " 'MLPRegressor': [('score', 0.33881569927024935)],\n",
       " 'KNeighborsRegressor': [('score', -0.027131499263123082)],\n",
       " 'Lasso': [('score', 0.2168256347262381)],\n",
       " 'LassoLars': [('score', -0.0001729217095645108)],\n",
       " 'Ridge': [('score', 0.35040100218606834)],\n",
       " 'BayesianRidge': [('score', 0.35027316022330307)],\n",
       " 'SGDRegressor': [('score', -3.005482263250359e+27)],\n",
       " 'AdaBoostRegressor': [('score', 0.29499890696028197)],\n",
       " 'ExtraTreesRegressor': [('score', 0.2605098757626714)],\n",
       " 'GradientBoostingRegressor': [('score', 0.3591280099967954)],\n",
       " 'RandomForestRegressor': [('score', 0.2669196928386084)]}"
      ]
     },
     "execution_count": 57,
     "metadata": {},
     "output_type": "execute_result"
    }
   ],
   "source": [
    "melted_df_wo = melted_df.drop(columns = TARGET_PROXIES)\n",
    "\n",
    "X = melted_df_wo.values\n",
    "y = melted_df['Score'].values\n",
    "\n",
    "run_model_diagnostics(X, y, regressors, is_classification = False)"
   ]
  },
  {
   "cell_type": "markdown",
   "metadata": {},
   "source": [
    "## Season Simulation\n",
    "Now that we have our game-stats and expected goals models constructed we are ready to move on to simulation. Over the course of a season, many random events compound to change the relative standings of each team. By using a random simulation over the course of a season we can generate the league table prior to any matches beginning.\n",
    "\n",
    "In order to do this we will use the following methodology:\n",
    "1. Pick a window of previous games from each team's portfolio (a window)\n",
    "2. Predict the next game's game-level statistics for that team (e.g. Passes) based on those performances, subject to randomness by adding a random normal distribution on top of these predictions\n",
    "3. From a simulated set of game-level statistics use our goal model to generate the expected goals within that game\n",
    "4. Use the goals scored by each team to make a game result prediction\n",
    "\n",
    "We'll use 10 as a default window. This essentially means that the last 10 games of the previous year will be used to predict the first game and from there the window will slide over."
   ]
  },
  {
   "cell_type": "code",
   "execution_count": 58,
   "metadata": {},
   "outputs": [
    {
     "data": {
      "text/plain": [
       "2018"
      ]
     },
     "execution_count": 58,
     "metadata": {},
     "output_type": "execute_result"
    }
   ],
   "source": [
    "WINDOW = 10\n",
    "max(melted_df.year)"
   ]
  },
  {
   "cell_type": "code",
   "execution_count": 59,
   "metadata": {},
   "outputs": [
    {
     "data": {
      "text/plain": [
       "array(['Leicester', 'Arsenal', 'Man City', 'Brighton', 'Burnley',\n",
       "       'Chelsea', 'Huddersfield', 'Crystal Palace', 'Stoke', 'Everton',\n",
       "       'West Ham', 'Man Utd', 'Spurs', 'Newcastle', 'Swansea',\n",
       "       'Southampton', 'Liverpool', 'Watford', 'Bournemouth', 'West Brom'],\n",
       "      dtype=object)"
      ]
     },
     "execution_count": 59,
     "metadata": {},
     "output_type": "execute_result"
    }
   ],
   "source": [
    "# which teams were in the league that year?\n",
    "unique_teams = melted_df[melted_df.year == 2018].Team.unique()\n",
    "unique_teams"
   ]
  },
  {
   "cell_type": "code",
   "execution_count": 61,
   "metadata": {},
   "outputs": [
    {
     "ename": "ValueError",
     "evalue": "bad input shape (8352, 12)",
     "output_type": "error",
     "traceback": [
      "\u001b[0;31m---------------------------------------------------------------------------\u001b[0m",
      "\u001b[0;31mValueError\u001b[0m                                Traceback (most recent call last)",
      "\u001b[0;32m<ipython-input-61-ffa0747cf997>\u001b[0m in \u001b[0;36m<module>\u001b[0;34m\u001b[0m\n\u001b[0;32m----> 1\u001b[0;31m \u001b[0mgoal_model\u001b[0m \u001b[0;34m=\u001b[0m \u001b[0mbuild_exp_goals_model\u001b[0m\u001b[0;34m(\u001b[0m\u001b[0mmelted_df\u001b[0m\u001b[0;34m,\u001b[0m \u001b[0mBayesianRidge\u001b[0m\u001b[0;34m(\u001b[0m\u001b[0;34m)\u001b[0m\u001b[0;34m)\u001b[0m\u001b[0;34m\u001b[0m\u001b[0;34m\u001b[0m\u001b[0m\n\u001b[0m",
      "\u001b[0;32m~/Dir/ccny/MLproject/models/helpers.py\u001b[0m in \u001b[0;36mbuild_exp_goals_model\u001b[0;34m(df, clf, test_year, features_to_drop)\u001b[0m\n\u001b[1;32m    107\u001b[0m     \"\"\"\n\u001b[1;32m    108\u001b[0m     \u001b[0mX\u001b[0m \u001b[0;34m=\u001b[0m \u001b[0mdf\u001b[0m\u001b[0;34m[\u001b[0m\u001b[0mdf\u001b[0m\u001b[0;34m.\u001b[0m\u001b[0myear\u001b[0m \u001b[0;34m!=\u001b[0m \u001b[0mtest_year\u001b[0m\u001b[0;34m]\u001b[0m\u001b[0;34m.\u001b[0m\u001b[0mdrop\u001b[0m\u001b[0;34m(\u001b[0m\u001b[0mcolumns\u001b[0m \u001b[0;34m=\u001b[0m \u001b[0mfeatures_to_drop\u001b[0m\u001b[0;34m)\u001b[0m\u001b[0;34m.\u001b[0m\u001b[0mvalues\u001b[0m\u001b[0;34m\u001b[0m\u001b[0;34m\u001b[0m\u001b[0m\n\u001b[0;32m--> 109\u001b[0;31m     \u001b[0my\u001b[0m \u001b[0;34m=\u001b[0m \u001b[0mdf\u001b[0m\u001b[0;34m[\u001b[0m\u001b[0mdf\u001b[0m\u001b[0;34m.\u001b[0m\u001b[0myear\u001b[0m \u001b[0;34m!=\u001b[0m \u001b[0mtest_year\u001b[0m\u001b[0;34m]\u001b[0m\u001b[0;34m.\u001b[0m\u001b[0mvalues\u001b[0m\u001b[0;34m\u001b[0m\u001b[0;34m\u001b[0m\u001b[0m\n\u001b[0m\u001b[1;32m    110\u001b[0m     \u001b[0mclf\u001b[0m\u001b[0;34m.\u001b[0m\u001b[0mfit\u001b[0m\u001b[0;34m(\u001b[0m\u001b[0mX\u001b[0m\u001b[0;34m,\u001b[0m \u001b[0my\u001b[0m\u001b[0;34m)\u001b[0m\u001b[0;34m\u001b[0m\u001b[0;34m\u001b[0m\u001b[0m\n\u001b[1;32m    111\u001b[0m     \u001b[0;32mreturn\u001b[0m \u001b[0mclf\u001b[0m\u001b[0;34m\u001b[0m\u001b[0;34m\u001b[0m\u001b[0m\n",
      "\u001b[0;32m~/.local/lib/python3.6/site-packages/sklearn/linear_model/bayes.py\u001b[0m in \u001b[0;36mfit\u001b[0;34m(self, X, y, sample_weight)\u001b[0m\n\u001b[1;32m    161\u001b[0m         \u001b[0mself\u001b[0m \u001b[0;34m:\u001b[0m \u001b[0mreturns\u001b[0m \u001b[0man\u001b[0m \u001b[0minstance\u001b[0m \u001b[0mof\u001b[0m \u001b[0mself\u001b[0m\u001b[0;34m.\u001b[0m\u001b[0;34m\u001b[0m\u001b[0;34m\u001b[0m\u001b[0m\n\u001b[1;32m    162\u001b[0m         \"\"\"\n\u001b[0;32m--> 163\u001b[0;31m         \u001b[0mX\u001b[0m\u001b[0;34m,\u001b[0m \u001b[0my\u001b[0m \u001b[0;34m=\u001b[0m \u001b[0mcheck_X_y\u001b[0m\u001b[0;34m(\u001b[0m\u001b[0mX\u001b[0m\u001b[0;34m,\u001b[0m \u001b[0my\u001b[0m\u001b[0;34m,\u001b[0m \u001b[0mdtype\u001b[0m\u001b[0;34m=\u001b[0m\u001b[0mnp\u001b[0m\u001b[0;34m.\u001b[0m\u001b[0mfloat64\u001b[0m\u001b[0;34m,\u001b[0m \u001b[0my_numeric\u001b[0m\u001b[0;34m=\u001b[0m\u001b[0;32mTrue\u001b[0m\u001b[0;34m)\u001b[0m\u001b[0;34m\u001b[0m\u001b[0;34m\u001b[0m\u001b[0m\n\u001b[0m\u001b[1;32m    164\u001b[0m         X, y, X_offset_, y_offset_, X_scale_ = self._preprocess_data(\n\u001b[1;32m    165\u001b[0m             \u001b[0mX\u001b[0m\u001b[0;34m,\u001b[0m \u001b[0my\u001b[0m\u001b[0;34m,\u001b[0m \u001b[0mself\u001b[0m\u001b[0;34m.\u001b[0m\u001b[0mfit_intercept\u001b[0m\u001b[0;34m,\u001b[0m \u001b[0mself\u001b[0m\u001b[0;34m.\u001b[0m\u001b[0mnormalize\u001b[0m\u001b[0;34m,\u001b[0m \u001b[0mself\u001b[0m\u001b[0;34m.\u001b[0m\u001b[0mcopy_X\u001b[0m\u001b[0;34m,\u001b[0m\u001b[0;34m\u001b[0m\u001b[0;34m\u001b[0m\u001b[0m\n",
      "\u001b[0;32m~/.local/lib/python3.6/site-packages/sklearn/utils/validation.py\u001b[0m in \u001b[0;36mcheck_X_y\u001b[0;34m(X, y, accept_sparse, accept_large_sparse, dtype, order, copy, force_all_finite, ensure_2d, allow_nd, multi_output, ensure_min_samples, ensure_min_features, y_numeric, warn_on_dtype, estimator)\u001b[0m\n\u001b[1;32m    759\u001b[0m                         dtype=None)\n\u001b[1;32m    760\u001b[0m     \u001b[0;32melse\u001b[0m\u001b[0;34m:\u001b[0m\u001b[0;34m\u001b[0m\u001b[0;34m\u001b[0m\u001b[0m\n\u001b[0;32m--> 761\u001b[0;31m         \u001b[0my\u001b[0m \u001b[0;34m=\u001b[0m \u001b[0mcolumn_or_1d\u001b[0m\u001b[0;34m(\u001b[0m\u001b[0my\u001b[0m\u001b[0;34m,\u001b[0m \u001b[0mwarn\u001b[0m\u001b[0;34m=\u001b[0m\u001b[0;32mTrue\u001b[0m\u001b[0;34m)\u001b[0m\u001b[0;34m\u001b[0m\u001b[0;34m\u001b[0m\u001b[0m\n\u001b[0m\u001b[1;32m    762\u001b[0m         \u001b[0m_assert_all_finite\u001b[0m\u001b[0;34m(\u001b[0m\u001b[0my\u001b[0m\u001b[0;34m)\u001b[0m\u001b[0;34m\u001b[0m\u001b[0;34m\u001b[0m\u001b[0m\n\u001b[1;32m    763\u001b[0m     \u001b[0;32mif\u001b[0m \u001b[0my_numeric\u001b[0m \u001b[0;32mand\u001b[0m \u001b[0my\u001b[0m\u001b[0;34m.\u001b[0m\u001b[0mdtype\u001b[0m\u001b[0;34m.\u001b[0m\u001b[0mkind\u001b[0m \u001b[0;34m==\u001b[0m \u001b[0;34m'O'\u001b[0m\u001b[0;34m:\u001b[0m\u001b[0;34m\u001b[0m\u001b[0;34m\u001b[0m\u001b[0m\n",
      "\u001b[0;32m~/.local/lib/python3.6/site-packages/sklearn/utils/validation.py\u001b[0m in \u001b[0;36mcolumn_or_1d\u001b[0;34m(y, warn)\u001b[0m\n\u001b[1;32m    795\u001b[0m         \u001b[0;32mreturn\u001b[0m \u001b[0mnp\u001b[0m\u001b[0;34m.\u001b[0m\u001b[0mravel\u001b[0m\u001b[0;34m(\u001b[0m\u001b[0my\u001b[0m\u001b[0;34m)\u001b[0m\u001b[0;34m\u001b[0m\u001b[0;34m\u001b[0m\u001b[0m\n\u001b[1;32m    796\u001b[0m \u001b[0;34m\u001b[0m\u001b[0m\n\u001b[0;32m--> 797\u001b[0;31m     \u001b[0;32mraise\u001b[0m \u001b[0mValueError\u001b[0m\u001b[0;34m(\u001b[0m\u001b[0;34m\"bad input shape {0}\"\u001b[0m\u001b[0;34m.\u001b[0m\u001b[0mformat\u001b[0m\u001b[0;34m(\u001b[0m\u001b[0mshape\u001b[0m\u001b[0;34m)\u001b[0m\u001b[0;34m)\u001b[0m\u001b[0;34m\u001b[0m\u001b[0;34m\u001b[0m\u001b[0m\n\u001b[0m\u001b[1;32m    798\u001b[0m \u001b[0;34m\u001b[0m\u001b[0m\n\u001b[1;32m    799\u001b[0m \u001b[0;34m\u001b[0m\u001b[0m\n",
      "\u001b[0;31mValueError\u001b[0m: bad input shape (8352, 12)"
     ]
    }
   ],
   "source": [
    "goal_model = build_exp_goals_model(melted_df, BayesianRidge())"
   ]
  },
  {
   "cell_type": "code",
   "execution_count": 67,
   "metadata": {},
   "outputs": [
    {
     "ename": "AttributeError",
     "evalue": "'Series' object has no attribute 'value'",
     "output_type": "error",
     "traceback": [
      "\u001b[0;31m---------------------------------------------------------------------------\u001b[0m",
      "\u001b[0;31mAttributeError\u001b[0m                            Traceback (most recent call last)",
      "\u001b[0;32m<ipython-input-67-18e788f78c89>\u001b[0m in \u001b[0;36m<module>\u001b[0;34m\u001b[0m\n\u001b[1;32m      6\u001b[0m \u001b[0;34m\u001b[0m\u001b[0m\n\u001b[1;32m      7\u001b[0m \u001b[0;32mfor\u001b[0m \u001b[0mfeature\u001b[0m\u001b[0;34m,\u001b[0m \u001b[0mclf\u001b[0m \u001b[0;32min\u001b[0m \u001b[0mmodel_map\u001b[0m\u001b[0;34m.\u001b[0m\u001b[0mitems\u001b[0m\u001b[0;34m(\u001b[0m\u001b[0;34m)\u001b[0m\u001b[0;34m:\u001b[0m\u001b[0;34m\u001b[0m\u001b[0;34m\u001b[0m\u001b[0m\n\u001b[0;32m----> 8\u001b[0;31m     \u001b[0mmodel_map\u001b[0m\u001b[0;34m[\u001b[0m\u001b[0mfeature\u001b[0m\u001b[0;34m]\u001b[0m \u001b[0;34m=\u001b[0m \u001b[0mbuild_game_stats_model\u001b[0m\u001b[0;34m(\u001b[0m\u001b[0mmelted_df\u001b[0m\u001b[0;34m,\u001b[0m \u001b[0mclf\u001b[0m\u001b[0;34m,\u001b[0m \u001b[0mfeature\u001b[0m\u001b[0;34m)\u001b[0m\u001b[0;34m\u001b[0m\u001b[0;34m\u001b[0m\u001b[0m\n\u001b[0m",
      "\u001b[0;32m~/Dir/ccny/MLproject/models/helpers.py\u001b[0m in \u001b[0;36mbuild_game_stats_model\u001b[0;34m(df, clf, feature, window, test_year, features_to_drop)\u001b[0m\n\u001b[1;32m    124\u001b[0m             \u001b[0mX_vec\u001b[0m \u001b[0;34m=\u001b[0m \u001b[0mfit_df\u001b[0m\u001b[0;34m.\u001b[0m\u001b[0miloc\u001b[0m\u001b[0;34m[\u001b[0m\u001b[0mi\u001b[0m\u001b[0;34m:\u001b[0m\u001b[0mi\u001b[0m \u001b[0;34m+\u001b[0m \u001b[0mwindow\u001b[0m\u001b[0;34m]\u001b[0m\u001b[0;34m.\u001b[0m\u001b[0mvalues\u001b[0m\u001b[0;34m.\u001b[0m\u001b[0mflatten\u001b[0m\u001b[0;34m(\u001b[0m\u001b[0;34m)\u001b[0m\u001b[0;34m\u001b[0m\u001b[0;34m\u001b[0m\u001b[0m\n\u001b[1;32m    125\u001b[0m             \u001b[0;32mif\u001b[0m \u001b[0mX_vec\u001b[0m\u001b[0;34m.\u001b[0m\u001b[0mshape\u001b[0m\u001b[0;34m[\u001b[0m\u001b[0;36m0\u001b[0m\u001b[0;34m]\u001b[0m \u001b[0;34m==\u001b[0m \u001b[0;36m8\u001b[0m \u001b[0;34m*\u001b[0m \u001b[0mwindow\u001b[0m\u001b[0;34m:\u001b[0m\u001b[0;34m\u001b[0m\u001b[0;34m\u001b[0m\u001b[0m\n\u001b[0;32m--> 126\u001b[0;31m                 \u001b[0mX_as_list\u001b[0m\u001b[0;34m.\u001b[0m\u001b[0mappend\u001b[0m\u001b[0;34m(\u001b[0m\u001b[0mX_vec\u001b[0m\u001b[0;34m)\u001b[0m\u001b[0;34m\u001b[0m\u001b[0;34m\u001b[0m\u001b[0m\n\u001b[0m\u001b[1;32m    127\u001b[0m                 \u001b[0my_as_list\u001b[0m\u001b[0;34m.\u001b[0m\u001b[0mappend\u001b[0m\u001b[0;34m(\u001b[0m\u001b[0mteam_df\u001b[0m\u001b[0;34m[\u001b[0m\u001b[0mfeature\u001b[0m\u001b[0;34m]\u001b[0m\u001b[0;34m.\u001b[0m\u001b[0mvalue\u001b[0m\u001b[0;34m[\u001b[0m\u001b[0mi\u001b[0m \u001b[0;34m+\u001b[0m \u001b[0mwindow\u001b[0m \u001b[0;34m+\u001b[0m \u001b[0;36m1\u001b[0m\u001b[0;34m]\u001b[0m\u001b[0;34m)\u001b[0m \u001b[0;31m# target is next game's value\u001b[0m\u001b[0;34m\u001b[0m\u001b[0;34m\u001b[0m\u001b[0m\n\u001b[1;32m    128\u001b[0m \u001b[0;34m\u001b[0m\u001b[0m\n",
      "\u001b[0;32m~/.local/lib/python3.6/site-packages/pandas/core/generic.py\u001b[0m in \u001b[0;36m__getattr__\u001b[0;34m(self, name)\u001b[0m\n\u001b[1;32m   5065\u001b[0m             \u001b[0;32mif\u001b[0m \u001b[0mself\u001b[0m\u001b[0;34m.\u001b[0m\u001b[0m_info_axis\u001b[0m\u001b[0;34m.\u001b[0m\u001b[0m_can_hold_identifiers_and_holds_name\u001b[0m\u001b[0;34m(\u001b[0m\u001b[0mname\u001b[0m\u001b[0;34m)\u001b[0m\u001b[0;34m:\u001b[0m\u001b[0;34m\u001b[0m\u001b[0;34m\u001b[0m\u001b[0m\n\u001b[1;32m   5066\u001b[0m                 \u001b[0;32mreturn\u001b[0m \u001b[0mself\u001b[0m\u001b[0;34m[\u001b[0m\u001b[0mname\u001b[0m\u001b[0;34m]\u001b[0m\u001b[0;34m\u001b[0m\u001b[0;34m\u001b[0m\u001b[0m\n\u001b[0;32m-> 5067\u001b[0;31m             \u001b[0;32mreturn\u001b[0m \u001b[0mobject\u001b[0m\u001b[0;34m.\u001b[0m\u001b[0m__getattribute__\u001b[0m\u001b[0;34m(\u001b[0m\u001b[0mself\u001b[0m\u001b[0;34m,\u001b[0m \u001b[0mname\u001b[0m\u001b[0;34m)\u001b[0m\u001b[0;34m\u001b[0m\u001b[0;34m\u001b[0m\u001b[0m\n\u001b[0m\u001b[1;32m   5068\u001b[0m \u001b[0;34m\u001b[0m\u001b[0m\n\u001b[1;32m   5069\u001b[0m     \u001b[0;32mdef\u001b[0m \u001b[0m__setattr__\u001b[0m\u001b[0;34m(\u001b[0m\u001b[0mself\u001b[0m\u001b[0;34m,\u001b[0m \u001b[0mname\u001b[0m\u001b[0;34m,\u001b[0m \u001b[0mvalue\u001b[0m\u001b[0;34m)\u001b[0m\u001b[0;34m:\u001b[0m\u001b[0;34m\u001b[0m\u001b[0;34m\u001b[0m\u001b[0m\n",
      "\u001b[0;31mAttributeError\u001b[0m: 'Series' object has no attribute 'value'"
     ]
    }
   ],
   "source": [
    "model_map = {'Shots': LinearRegression(),\n",
    "             'Passes': Ridge(),\n",
    "             'Clearances': GradientBoostingRegressor(),\n",
    "             'Offsides': Ridge(),\n",
    "             'Fouls': GradientBoostingRegressor()}\n",
    "\n",
    "for feature, clf in model_map.items():\n",
    "    model_map[feature] = build_game_stats_model(melted_df, clf, feature)"
   ]
  },
  {
   "cell_type": "code",
   "execution_count": 68,
   "metadata": {},
   "outputs": [
    {
     "name": "stdout",
     "output_type": "stream",
     "text": [
      "['Liverpool' 'Arsenal' 'Man Utd' 'Bournemouth' 'Swansea' 'Burnley'\n",
      " 'West Ham' 'Chelsea' 'West Brom' 'Crystal Palace' 'Spurs' 'Everton'\n",
      " 'Leicester' 'Hull' 'Sunderland' 'Man City' 'Stoke' 'Middlesbrough'\n",
      " 'Watford' 'Southampton']\n"
     ]
    }
   ],
   "source": [
    "# now for each game in 2018 we have to simulate the match statistics & the resultant expected goals\n",
    "# recall we're using 10 games of history \n",
    "# so we'll start with the 2017 games and append each game in 2018 one-by-one\n",
    "simulated_df = melted_df[melted_df.year == 2017]\n",
    "simulated_df.head()\n",
    "print(simulated_df.Team.unique())"
   ]
  },
  {
   "cell_type": "code",
   "execution_count": 69,
   "metadata": {},
   "outputs": [
    {
     "name": "stdout",
     "output_type": "stream",
     "text": [
      "{'Shots': 2.546931901038936, 'Passes': 115.3683159143939, 'Clearances': 14.842825213227448, 'Offsides': 1.8304938875131036, 'Fouls': 3.8904622989576456}\n"
     ]
    }
   ],
   "source": [
    "st_dev_map = { feature: np.std(melted_df[feature]) for feature in model_map.keys()}\n",
    "# np.std(melted_df['Shots'])\n",
    "print(st_dev_map)"
   ]
  },
  {
   "cell_type": "markdown",
   "metadata": {},
   "source": [
    "### Single Simulation Example"
   ]
  },
  {
   "cell_type": "code",
   "execution_count": 70,
   "metadata": {},
   "outputs": [
    {
     "data": {
      "text/html": [
       "<div>\n",
       "<style scoped>\n",
       "    .dataframe tbody tr th:only-of-type {\n",
       "        vertical-align: middle;\n",
       "    }\n",
       "\n",
       "    .dataframe tbody tr th {\n",
       "        vertical-align: top;\n",
       "    }\n",
       "\n",
       "    .dataframe thead th {\n",
       "        text-align: right;\n",
       "    }\n",
       "</style>\n",
       "<table border=\"1\" class=\"dataframe\">\n",
       "  <thead>\n",
       "    <tr style=\"text-align: right;\">\n",
       "      <th></th>\n",
       "      <th>MatchID</th>\n",
       "      <th>Team</th>\n",
       "      <th>year</th>\n",
       "      <th>Expenditures</th>\n",
       "      <th>Income</th>\n",
       "      <th>IsHome</th>\n",
       "    </tr>\n",
       "  </thead>\n",
       "  <tbody>\n",
       "    <tr>\n",
       "      <th>8352</th>\n",
       "      <td>22342</td>\n",
       "      <td>Leicester</td>\n",
       "      <td>2018</td>\n",
       "      <td>100.14</td>\n",
       "      <td>54.61</td>\n",
       "      <td>1</td>\n",
       "    </tr>\n",
       "    <tr>\n",
       "      <th>8353</th>\n",
       "      <td>22342</td>\n",
       "      <td>Arsenal</td>\n",
       "      <td>2018</td>\n",
       "      <td>174.25</td>\n",
       "      <td>178.07</td>\n",
       "      <td>0</td>\n",
       "    </tr>\n",
       "    <tr>\n",
       "      <th>8354</th>\n",
       "      <td>22343</td>\n",
       "      <td>Man City</td>\n",
       "      <td>2018</td>\n",
       "      <td>361.95</td>\n",
       "      <td>104.14</td>\n",
       "      <td>1</td>\n",
       "    </tr>\n",
       "    <tr>\n",
       "      <th>8355</th>\n",
       "      <td>22343</td>\n",
       "      <td>Brighton</td>\n",
       "      <td>2018</td>\n",
       "      <td>72.39</td>\n",
       "      <td>0.00</td>\n",
       "      <td>0</td>\n",
       "    </tr>\n",
       "    <tr>\n",
       "      <th>8356</th>\n",
       "      <td>22344</td>\n",
       "      <td>Burnley</td>\n",
       "      <td>2018</td>\n",
       "      <td>40.74</td>\n",
       "      <td>57.00</td>\n",
       "      <td>1</td>\n",
       "    </tr>\n",
       "  </tbody>\n",
       "</table>\n",
       "</div>"
      ],
      "text/plain": [
       "      MatchID       Team  year  Expenditures  Income  IsHome\n",
       "8352    22342  Leicester  2018        100.14   54.61       1\n",
       "8353    22342    Arsenal  2018        174.25  178.07       0\n",
       "8354    22343   Man City  2018        361.95  104.14       1\n",
       "8355    22343   Brighton  2018         72.39    0.00       0\n",
       "8356    22344    Burnley  2018         40.74   57.00       1"
      ]
     },
     "execution_count": 70,
     "metadata": {},
     "output_type": "execute_result"
    }
   ],
   "source": [
    "season_df = melted_df[melted_df.year == 2018].drop(columns = list(model_map.keys()) + ['Score'])\n",
    "season_df.head()"
   ]
  },
  {
   "cell_type": "code",
   "execution_count": 71,
   "metadata": {},
   "outputs": [
    {
     "ename": "NameError",
     "evalue": "name 'goal_model' is not defined",
     "output_type": "error",
     "traceback": [
      "\u001b[0;31m---------------------------------------------------------------------------\u001b[0m",
      "\u001b[0;31mNameError\u001b[0m                                 Traceback (most recent call last)",
      "\u001b[0;32m<ipython-input-71-ffedad441cf4>\u001b[0m in \u001b[0;36m<module>\u001b[0;34m\u001b[0m\n\u001b[1;32m      2\u001b[0m \u001b[0;32mfor\u001b[0m \u001b[0mrow\u001b[0m \u001b[0;32min\u001b[0m \u001b[0mseason_df\u001b[0m\u001b[0;34m.\u001b[0m\u001b[0miterrows\u001b[0m\u001b[0;34m(\u001b[0m\u001b[0;34m)\u001b[0m\u001b[0;34m:\u001b[0m\u001b[0;34m\u001b[0m\u001b[0;34m\u001b[0m\u001b[0m\n\u001b[1;32m      3\u001b[0m     \u001b[0mgame\u001b[0m \u001b[0;34m=\u001b[0m \u001b[0mrow\u001b[0m\u001b[0;34m[\u001b[0m\u001b[0;36m1\u001b[0m\u001b[0;34m]\u001b[0m\u001b[0;34m\u001b[0m\u001b[0;34m\u001b[0m\u001b[0m\n\u001b[0;32m----> 4\u001b[0;31m     \u001b[0msimulated_result\u001b[0m \u001b[0;34m=\u001b[0m \u001b[0mfit_game\u001b[0m\u001b[0;34m(\u001b[0m\u001b[0mgame\u001b[0m\u001b[0;34m,\u001b[0m \u001b[0msimulated_df\u001b[0m\u001b[0;34m,\u001b[0m \u001b[0mmodel_map\u001b[0m\u001b[0;34m,\u001b[0m \u001b[0mgoal_model\u001b[0m\u001b[0;34m)\u001b[0m\u001b[0;34m\u001b[0m\u001b[0;34m\u001b[0m\u001b[0m\n\u001b[0m\u001b[1;32m      5\u001b[0m     \u001b[0msimulated_df\u001b[0m \u001b[0;34m=\u001b[0m \u001b[0msimulated_df\u001b[0m\u001b[0;34m.\u001b[0m\u001b[0mappend\u001b[0m\u001b[0;34m(\u001b[0m\u001b[0msimulated_result\u001b[0m\u001b[0;34m,\u001b[0m \u001b[0mignore_index\u001b[0m \u001b[0;34m=\u001b[0m \u001b[0;32mTrue\u001b[0m\u001b[0;34m)\u001b[0m\u001b[0;34m\u001b[0m\u001b[0;34m\u001b[0m\u001b[0m\n\u001b[1;32m      6\u001b[0m \u001b[0;34m\u001b[0m\u001b[0m\n",
      "\u001b[0;31mNameError\u001b[0m: name 'goal_model' is not defined"
     ]
    }
   ],
   "source": [
    "# now we'll use this dataframe to generate all the results\n",
    "for row in season_df.iterrows():\n",
    "    game = row[1]\n",
    "    simulated_result = fit_game(game, simulated_df, model_map, goal_model)\n",
    "    simulated_df = simulated_df.append(simulated_result, ignore_index = True)\n",
    "    \n",
    "print(simulated_df.tail())"
   ]
  },
  {
   "cell_type": "code",
   "execution_count": 72,
   "metadata": {},
   "outputs": [
    {
     "data": {
      "text/plain": [
       "[]"
      ]
     },
     "execution_count": 72,
     "metadata": {},
     "output_type": "execute_result"
    }
   ],
   "source": [
    "points = get_team_points(simulated_df)\n",
    "sorted( points, key = lambda x: -x[1])"
   ]
  },
  {
   "cell_type": "markdown",
   "metadata": {},
   "source": [
    "### Full Run"
   ]
  },
  {
   "cell_type": "code",
   "execution_count": null,
   "metadata": {},
   "outputs": [],
   "source": [
    "RUNS = 20\n",
    "\n",
    "avg_table = run_simulations(melted_df, RUNS, model_map, goal_model)\n",
    "\n",
    "sorted(avg_table, key = lambda x: -x[1])"
   ]
  },
  {
   "cell_type": "markdown",
   "metadata": {},
   "source": [
    "## Conclusion"
   ]
  },
  {
   "cell_type": "code",
   "execution_count": null,
   "metadata": {},
   "outputs": [],
   "source": []
  }
 ],
 "metadata": {
  "kernelspec": {
   "display_name": "Python 3",
   "language": "python",
   "name": "python3"
  },
  "language_info": {
   "codemirror_mode": {
    "name": "ipython",
    "version": 3
   },
   "file_extension": ".py",
   "mimetype": "text/x-python",
   "name": "python",
   "nbconvert_exporter": "python",
   "pygments_lexer": "ipython3",
   "version": "3.6.7"
  }
 },
 "nbformat": 4,
 "nbformat_minor": 2
}
