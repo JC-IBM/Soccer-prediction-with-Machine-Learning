{
 "cells": [
  {
   "cell_type": "markdown",
   "metadata": {},
   "source": [
    "### Data Loading"
   ]
  },
  {
   "cell_type": "code",
   "execution_count": 1,
   "metadata": {},
   "outputs": [],
   "source": [
    "import pandas as pd\n",
    "from helpers import *"
   ]
  },
  {
   "cell_type": "markdown",
   "metadata": {},
   "source": [
    "Firstly, let's create our data-frame from our source data. Additionally, we'll transform the `Score_home` and `Score_away` columns into our target variable such that:\n",
    "$$\n",
    "y = \\cases{-1 \\\\ \n",
    "            0 \\\\\n",
    "            1 }\n",
    "$$\n",
    "using the helper function `score_to_win()`"
   ]
  },
  {
   "cell_type": "code",
   "execution_count": 2,
   "metadata": {},
   "outputs": [
    {
     "data": {
      "text/html": [
       "<div>\n",
       "<style scoped>\n",
       "    .dataframe tbody tr th:only-of-type {\n",
       "        vertical-align: middle;\n",
       "    }\n",
       "\n",
       "    .dataframe tbody tr th {\n",
       "        vertical-align: top;\n",
       "    }\n",
       "\n",
       "    .dataframe thead th {\n",
       "        text-align: right;\n",
       "    }\n",
       "</style>\n",
       "<table border=\"1\" class=\"dataframe\">\n",
       "  <thead>\n",
       "    <tr style=\"text-align: right;\">\n",
       "      <th></th>\n",
       "      <th>MatchID</th>\n",
       "      <th>Home_team</th>\n",
       "      <th>Away_team</th>\n",
       "      <th>Score_home</th>\n",
       "      <th>Score_away</th>\n",
       "      <th>Possession_home</th>\n",
       "      <th>Possession_away</th>\n",
       "      <th>Shots_on_target_home</th>\n",
       "      <th>Shots_on_target_away</th>\n",
       "      <th>Shots_home</th>\n",
       "      <th>...</th>\n",
       "      <th>year</th>\n",
       "      <th>Expenditures_home</th>\n",
       "      <th>Arrivals_home</th>\n",
       "      <th>Income_home</th>\n",
       "      <th>Departures_home</th>\n",
       "      <th>Expenditures_away</th>\n",
       "      <th>Arrivals_away</th>\n",
       "      <th>Income_away</th>\n",
       "      <th>Departures_away</th>\n",
       "      <th>target</th>\n",
       "    </tr>\n",
       "  </thead>\n",
       "  <tbody>\n",
       "    <tr>\n",
       "      <th>0</th>\n",
       "      <td>5937</td>\n",
       "      <td>Blackburn</td>\n",
       "      <td>Reading</td>\n",
       "      <td>3</td>\n",
       "      <td>3</td>\n",
       "      <td>54.0</td>\n",
       "      <td>46.0</td>\n",
       "      <td>6</td>\n",
       "      <td>4</td>\n",
       "      <td>15</td>\n",
       "      <td>...</td>\n",
       "      <td>2007</td>\n",
       "      <td>18.84</td>\n",
       "      <td>21</td>\n",
       "      <td>19.28</td>\n",
       "      <td>25</td>\n",
       "      <td>10.52</td>\n",
       "      <td>25</td>\n",
       "      <td>0.00</td>\n",
       "      <td>19</td>\n",
       "      <td>0</td>\n",
       "    </tr>\n",
       "    <tr>\n",
       "      <th>1</th>\n",
       "      <td>5938</td>\n",
       "      <td>Bolton</td>\n",
       "      <td>Aston Villa</td>\n",
       "      <td>2</td>\n",
       "      <td>2</td>\n",
       "      <td>47.1</td>\n",
       "      <td>52.9</td>\n",
       "      <td>2</td>\n",
       "      <td>2</td>\n",
       "      <td>11</td>\n",
       "      <td>...</td>\n",
       "      <td>2007</td>\n",
       "      <td>19.38</td>\n",
       "      <td>16</td>\n",
       "      <td>4.39</td>\n",
       "      <td>16</td>\n",
       "      <td>28.16</td>\n",
       "      <td>17</td>\n",
       "      <td>2.08</td>\n",
       "      <td>18</td>\n",
       "      <td>0</td>\n",
       "    </tr>\n",
       "    <tr>\n",
       "      <th>2</th>\n",
       "      <td>5939</td>\n",
       "      <td>Chelsea</td>\n",
       "      <td>Everton</td>\n",
       "      <td>1</td>\n",
       "      <td>1</td>\n",
       "      <td>59.3</td>\n",
       "      <td>40.7</td>\n",
       "      <td>7</td>\n",
       "      <td>6</td>\n",
       "      <td>20</td>\n",
       "      <td>...</td>\n",
       "      <td>2007</td>\n",
       "      <td>101.43</td>\n",
       "      <td>23</td>\n",
       "      <td>59.96</td>\n",
       "      <td>22</td>\n",
       "      <td>20.41</td>\n",
       "      <td>11</td>\n",
       "      <td>2.85</td>\n",
       "      <td>16</td>\n",
       "      <td>0</td>\n",
       "    </tr>\n",
       "    <tr>\n",
       "      <th>3</th>\n",
       "      <td>5940</td>\n",
       "      <td>Liverpool</td>\n",
       "      <td>Charlton</td>\n",
       "      <td>2</td>\n",
       "      <td>2</td>\n",
       "      <td>61.6</td>\n",
       "      <td>38.4</td>\n",
       "      <td>5</td>\n",
       "      <td>4</td>\n",
       "      <td>23</td>\n",
       "      <td>...</td>\n",
       "      <td>2007</td>\n",
       "      <td>52.44</td>\n",
       "      <td>27</td>\n",
       "      <td>23.94</td>\n",
       "      <td>28</td>\n",
       "      <td>24.68</td>\n",
       "      <td>31</td>\n",
       "      <td>2.59</td>\n",
       "      <td>36</td>\n",
       "      <td>0</td>\n",
       "    </tr>\n",
       "    <tr>\n",
       "      <th>4</th>\n",
       "      <td>5941</td>\n",
       "      <td>Man Utd</td>\n",
       "      <td>West Ham</td>\n",
       "      <td>0</td>\n",
       "      <td>1</td>\n",
       "      <td>65.3</td>\n",
       "      <td>34.7</td>\n",
       "      <td>7</td>\n",
       "      <td>2</td>\n",
       "      <td>30</td>\n",
       "      <td>...</td>\n",
       "      <td>2007</td>\n",
       "      <td>31.01</td>\n",
       "      <td>25</td>\n",
       "      <td>20.52</td>\n",
       "      <td>29</td>\n",
       "      <td>79.63</td>\n",
       "      <td>22</td>\n",
       "      <td>7.70</td>\n",
       "      <td>23</td>\n",
       "      <td>-1</td>\n",
       "    </tr>\n",
       "  </tbody>\n",
       "</table>\n",
       "<p>5 rows × 39 columns</p>\n",
       "</div>"
      ],
      "text/plain": [
       "   MatchID  Home_team    Away_team  Score_home  Score_away  Possession_home  \\\n",
       "0     5937  Blackburn      Reading           3           3             54.0   \n",
       "1     5938     Bolton  Aston Villa           2           2             47.1   \n",
       "2     5939    Chelsea      Everton           1           1             59.3   \n",
       "3     5940  Liverpool     Charlton           2           2             61.6   \n",
       "4     5941    Man Utd     West Ham           0           1             65.3   \n",
       "\n",
       "   Possession_away  Shots_on_target_home  Shots_on_target_away  Shots_home  \\\n",
       "0             46.0                     6                     4          15   \n",
       "1             52.9                     2                     2          11   \n",
       "2             40.7                     7                     6          20   \n",
       "3             38.4                     5                     4          23   \n",
       "4             34.7                     7                     2          30   \n",
       "\n",
       "   ...  year  Expenditures_home  Arrivals_home  Income_home  Departures_home  \\\n",
       "0  ...  2007              18.84             21        19.28               25   \n",
       "1  ...  2007              19.38             16         4.39               16   \n",
       "2  ...  2007             101.43             23        59.96               22   \n",
       "3  ...  2007              52.44             27        23.94               28   \n",
       "4  ...  2007              31.01             25        20.52               29   \n",
       "\n",
       "   Expenditures_away  Arrivals_away  Income_away  Departures_away  target  \n",
       "0              10.52             25         0.00               19       0  \n",
       "1              28.16             17         2.08               18       0  \n",
       "2              20.41             11         2.85               16       0  \n",
       "3              24.68             31         2.59               36       0  \n",
       "4              79.63             22         7.70               23      -1  \n",
       "\n",
       "[5 rows x 39 columns]"
      ]
     },
     "execution_count": 2,
     "metadata": {},
     "output_type": "execute_result"
    }
   ],
   "source": [
    "DATA_SRC = '../Data/PL_site_2006_2018/masterdata.csv'\n",
    "df = pd.read_csv(DATA_SRC)\n",
    "\n",
    "# create win/lose label\n",
    "df['target'] = df[['Score_home', 'Score_away']].apply(score_to_win, axis = 1)\n",
    "df.head()"
   ]
  },
  {
   "cell_type": "markdown",
   "metadata": {},
   "source": [
    "### Feature Extraction\n",
    "Now, we must drop several variables from the above table in order to fit our model. We'll create `df_wo` to pass in. This leaves us with 24 avaiable features."
   ]
  },
  {
   "cell_type": "code",
   "execution_count": 3,
   "metadata": {},
   "outputs": [
    {
     "data": {
      "text/plain": [
       "['Possession_home',\n",
       " 'Possession_away',\n",
       " 'Shots_on_target_home',\n",
       " 'Shots_on_target_away',\n",
       " 'Shots_home',\n",
       " 'Shots_away',\n",
       " 'Touches_home',\n",
       " 'Touches_away',\n",
       " 'Passes_home',\n",
       " 'Passes_away',\n",
       " 'Tackles_home',\n",
       " 'Tackles_away',\n",
       " 'Clearances_home',\n",
       " 'Clearances_away',\n",
       " 'Corners_home',\n",
       " 'Corners_away',\n",
       " 'Offsides_home',\n",
       " 'Offsides_away',\n",
       " 'Yellow_cards_home',\n",
       " 'Yellow_cards_away',\n",
       " 'Fouls_conceded_home',\n",
       " 'Fouls_conceded_away',\n",
       " 'Red_cards_home',\n",
       " 'Red_cards_away',\n",
       " 'year',\n",
       " 'Expenditures_home',\n",
       " 'Arrivals_home',\n",
       " 'Income_home',\n",
       " 'Departures_home',\n",
       " 'Expenditures_away',\n",
       " 'Arrivals_away',\n",
       " 'Income_away',\n",
       " 'Departures_away']"
      ]
     },
     "execution_count": 3,
     "metadata": {},
     "output_type": "execute_result"
    }
   ],
   "source": [
    "df_wo = df.drop(columns = ['target', 'MatchID', 'Home_team', 'Away_team', 'Score_home', 'Score_away', 'year'])\n",
    "list(df_wo)"
   ]
  },
  {
   "cell_type": "markdown",
   "metadata": {},
   "source": [
    "## EDA\n",
    "### Correlation"
   ]
  },
  {
   "cell_type": "code",
   "execution_count": 4,
   "metadata": {},
   "outputs": [],
   "source": [
    "import seaborn as sns\n",
    "home_features = [ f for f in list(df_wo) if '_home' in f ]\n",
    "corr = df_wo[home_features].corr()\n",
    "_ = sns.heatmap(corr)"
   ]
  },
  {
   "cell_type": "markdown",
   "metadata": {},
   "source": [
    "### Variance Inflation\n",
    "It is likely the case that several of the above variables are collinear. Now, in many models this might not have an effect as the coefficients for one variable will be high while the other will just be nullified. However, based on our correlation analysis it is clear some variables are capturing the same information. For example, possession is highly correlated with touches and passes. This isn't surprising, if a team possesses the ball for long stretches they are likely moving the ball around. \n",
    "\n",
    "We can use `statsmodels.stats.outliers_influence.variance_inflation_factor` to perform this analysis in Python."
   ]
  },
  {
   "cell_type": "code",
   "execution_count": 14,
   "metadata": {},
   "outputs": [
    {
     "name": "stdout",
     "output_type": "stream",
     "text": [
      "[('Possession_home', 486.0653996444629), ('Possession_away', 478.0328899411991), ('Shots_on_target_home', 8.88341265540607), ('Shots_on_target_away', 7.44168876563491), ('Shots_home', 22.520164579526792), ('Shots_away', 18.837895777430745), ('Touches_home', 1679.5868063725009), ('Touches_away', 1632.2906991231423), ('Passes_home', 866.9410901360411), ('Passes_away', 832.1493938696634), ('Tackles_home', 14.499726912477108), ('Tackles_away', 14.868821469217474), ('Clearances_home', 12.486482125524923), ('Clearances_away', 14.771748005823655), ('Corners_home', 7.930518365609224), ('Corners_away', 6.5181061287203095), ('Offsides_home', 2.770243990163693), ('Offsides_away', 2.6080052683540442), ('Yellow_cards_home', 3.029013601722126), ('Yellow_cards_away', 3.5663123325777972), ('Fouls_conceded_home', 14.667173510941675), ('Fouls_conceded_away', 14.92023906236237), ('Red_cards_home', 1.1172333137334791), ('Red_cards_away', 1.1466701514616544), ('year', 234.17375577037453), ('Expenditures_home', 4.665508390298928), ('Arrivals_home', 39.868605579438956), ('Income_home', 3.047973094532012), ('Departures_home', 50.49855611926084), ('Expenditures_away', 4.60388823184976), ('Arrivals_away', 39.98321638299325), ('Income_away', 3.0565385021278146), ('Departures_away', 50.66713899677163)]\n"
     ]
    }
   ],
   "source": [
    "from statsmodels.stats.outliers_influence import variance_inflation_factor\n",
    "\n",
    "vifs = []\n",
    "for i, feature in enumerate(list(df_wo)):\n",
    "    vif_tup = (feature, variance_inflation_factor(df_wo.values, i))\n",
    "    vifs.append( vif_tup )\n",
    "print(vifs)"
   ]
  },
  {
   "cell_type": "markdown",
   "metadata": {},
   "source": [
    "## Feature Engineering\n",
    "### Form\n",
    "Often, in the sport, commentators and analysts point to a team's form (essentially the recent performance) as being somewhat important in their performance in an individual game. The thinking goes: if this team has played well, they will continue to play well. It is not dissimilar to the concept of momentum, in a way. "
   ]
  },
  {
   "cell_type": "code",
   "execution_count": 31,
   "metadata": {},
   "outputs": [
    {
     "name": "stdout",
     "output_type": "stream",
     "text": [
      "['Possession_home', 'Possession_away', 'Shots_on_target_home', 'Shots_on_target_away', 'Shots_home', 'Shots_away', 'Touches_home', 'Touches_away', 'Passes_home', 'Passes_away', 'Tackles_home', 'Tackles_away', 'Clearances_home', 'Clearances_away', 'Corners_home', 'Corners_away', 'Offsides_home', 'Offsides_away', 'Yellow_cards_home', 'Yellow_cards_away', 'Fouls_conceded_home', 'Fouls_conceded_away', 'Red_cards_home', 'Red_cards_away', 'year', 'Expenditures_home', 'Arrivals_home', 'Income_home', 'Departures_home', 'Expenditures_away', 'Arrivals_away', 'Income_away', 'Departures_away', 'away_form_linear', 'home_form_linear', 'away_form_exp', 'home_form_exp']\n"
     ]
    }
   ],
   "source": [
    "scores = df[['MatchID', 'Home_team', 'Away_team', 'Score_home', 'Score_away']].values\n",
    "gd = gd_vectors(scores)\n",
    "\n",
    "away_form_linear = []\n",
    "home_form_linear = []\n",
    "away_form_exp = []\n",
    "home_form_exp = []\n",
    "for game in scores:\n",
    "    id, home_team, away_team, _, _ = game\n",
    "    away_form_exp.append( exponential_momentum(id, away_team, gd, alpha = .65) )\n",
    "    home_form_exp.append( exponential_momentum(id, home_team, gd, alpha = .65) )\n",
    "    away_form_linear.append( linear_momentum(id, away_team, gd) )\n",
    "    home_form_linear.append( linear_momentum(id, home_team, gd) )\n",
    "\n",
    "\n",
    "df_form = df_wo.copy()\n",
    "df_form['away_form_linear'] = pd.Series(away_form_linear)\n",
    "df_form['home_form_linear'] = pd.Series(home_form_linear)\n",
    "df_form['away_form_exp'] = pd.Series(away_form_exp)\n",
    "df_form['home_form_exp'] = pd.Series(home_form_exp)\n",
    "print(list(df_form))"
   ]
  },
  {
   "cell_type": "code",
   "execution_count": 16,
   "metadata": {},
   "outputs": [
    {
     "data": {
      "image/png": "[encoded data removed]",
      "text/plain": [
       "<Figure size 432x288 with 2 Axes>"
      ]
     },
     "metadata": {
      "needs_background": "light"
     },
     "output_type": "display_data"
    }
   ],
   "source": [
    "home_features = [ f for f in list(df_form) if 'home' in f ]\n",
    "corr = df_form[home_features].corr()\n",
    "_ = sns.heatmap(corr)"
   ]
  },
  {
   "cell_type": "markdown",
   "metadata": {},
   "source": [
    "### Transfer Spending / Market Value"
   ]
  },
  {
   "cell_type": "markdown",
   "metadata": {},
   "source": [
    "## Modeling"
   ]
  },
  {
   "cell_type": "code",
   "execution_count": 17,
   "metadata": {},
   "outputs": [],
   "source": [
    "from sklearn.linear_model import LogisticRegression\n",
    "from sklearn.neighbors import KNeighborsClassifier\n",
    "from sklearn.ensemble import RandomForestClassifier, GradientBoostingClassifier\n",
    "from sklearn.model_selection import train_test_split"
   ]
  },
  {
   "cell_type": "code",
   "execution_count": 18,
   "metadata": {},
   "outputs": [],
   "source": [
    "clfs = [LogisticRegression(), RandomForestClassifier(), GradientBoostingClassifier(),\n",
    "        KNeighborsClassifier()]"
   ]
  },
  {
   "cell_type": "code",
   "execution_count": 19,
   "metadata": {},
   "outputs": [],
   "source": [
    "X = df_wo.values\n",
    "df_form.drop(columns = ['home_form_linear', 'away_form_linear'], inplace = True)\n",
    "X_form = df_form.values\n",
    "y = df['target'].values\n",
    "\n",
    "X_train, X_test, y_train, y_test = train_test_split(X, y, test_size = .2, random_state = 42)\n",
    "X_train_form, X_test_form, y_train_form, y_test_form = train_test_split(X_form, y, test_size = .2, random_state = 42)"
   ]
  },
  {
   "cell_type": "code",
   "execution_count": 20,
   "metadata": {},
   "outputs": [
    {
     "name": "stderr",
     "output_type": "stream",
     "text": [
      "/home/thomas/.local/lib/python3.6/site-packages/sklearn/linear_model/logistic.py:433: FutureWarning: Default solver will be changed to 'lbfgs' in 0.22. Specify a solver to silence this warning.\n",
      "  FutureWarning)\n",
      "/home/thomas/.local/lib/python3.6/site-packages/sklearn/linear_model/logistic.py:460: FutureWarning: Default multi_class will be changed to 'auto' in 0.22. Specify the multi_class option to silence this warning.\n",
      "  \"this warning.\", FutureWarning)\n"
     ]
    },
    {
     "name": "stdout",
     "output_type": "stream",
     "text": [
      "<class 'sklearn.linear_model.logistic.LogisticRegression'>\n",
      "score =  0.6370614035087719 \n",
      "\n",
      "<class 'sklearn.ensemble.forest.RandomForestClassifier'>\n",
      "score =  0.5679824561403509 \n",
      "\n"
     ]
    },
    {
     "name": "stderr",
     "output_type": "stream",
     "text": [
      "/home/thomas/.local/lib/python3.6/site-packages/sklearn/ensemble/forest.py:246: FutureWarning: The default value of n_estimators will change from 10 in version 0.20 to 100 in 0.22.\n",
      "  \"10 in version 0.20 to 100 in 0.22.\", FutureWarning)\n"
     ]
    },
    {
     "name": "stdout",
     "output_type": "stream",
     "text": [
      "<class 'sklearn.ensemble.gradient_boosting.GradientBoostingClassifier'>\n",
      "score =  0.6304824561403509 \n",
      "\n",
      "<class 'sklearn.neighbors.classification.KNeighborsClassifier'>\n",
      "score =  0.4583333333333333 \n",
      "\n"
     ]
    }
   ],
   "source": [
    "for clf in clfs:\n",
    "    clf.fit(X_train, y_train)\n",
    "    print(type(clf))\n",
    "    print(\"score = \", clf.score(X_test, y_test), \"\\n\")"
   ]
  },
  {
   "cell_type": "code",
   "execution_count": 21,
   "metadata": {},
   "outputs": [
    {
     "name": "stderr",
     "output_type": "stream",
     "text": [
      "/home/thomas/.local/lib/python3.6/site-packages/sklearn/linear_model/logistic.py:433: FutureWarning: Default solver will be changed to 'lbfgs' in 0.22. Specify a solver to silence this warning.\n",
      "  FutureWarning)\n",
      "/home/thomas/.local/lib/python3.6/site-packages/sklearn/linear_model/logistic.py:460: FutureWarning: Default multi_class will be changed to 'auto' in 0.22. Specify the multi_class option to silence this warning.\n",
      "  \"this warning.\", FutureWarning)\n"
     ]
    },
    {
     "name": "stdout",
     "output_type": "stream",
     "text": [
      "<class 'sklearn.linear_model.logistic.LogisticRegression'>\n",
      "score =  0.6370614035087719 \n",
      "\n",
      "<class 'sklearn.ensemble.forest.RandomForestClassifier'>\n",
      "score =  0.5844298245614035 \n",
      "\n",
      "<class 'sklearn.ensemble.gradient_boosting.GradientBoostingClassifier'>\n",
      "score =  0.6239035087719298 \n",
      "\n",
      "<class 'sklearn.neighbors.classification.KNeighborsClassifier'>\n",
      "score =  0.4583333333333333 \n",
      "\n"
     ]
    }
   ],
   "source": [
    "for clf in clfs:\n",
    "    clf.fit(X_train_form, y_train_form)\n",
    "    print(type(clf))\n",
    "    print(\"score = \", clf.score(X_test_form, y_test_form), \"\\n\")"
   ]
  },
  {
   "cell_type": "markdown",
   "metadata": {},
   "source": [
    "### Coefficient Investigation\n",
    "Logistic Regression in particular provides a nice idea of the importance of our variables. Roughly, the larger coefficients suggest a higher importance of that feature. By inspection, we can potential use domain knowledge to drop collinear variables while keeping the best one. I.e. pick between `Touches` and `Passes`."
   ]
  },
  {
   "cell_type": "code",
   "execution_count": 27,
   "metadata": {},
   "outputs": [
    {
     "name": "stdout",
     "output_type": "stream",
     "text": [
      "Possession_home :  [ 0.14165681  0.03913781 -0.16529435]\n",
      "Possession_away :  [-0.16608845 -0.0367543   0.18522426]\n",
      "Shots_on_target_home :  [-0.29663914 -0.17728384  0.41879074]\n",
      "Shots_on_target_away :  [ 0.42333438 -0.08199724 -0.32353257]\n",
      "Shots_home :  [ 0.02526343  0.00695076 -0.03123839]\n",
      "Shots_away :  [-0.03739997  0.01134135  0.0240052 ]\n",
      "Touches_home :  [-0.00382969  0.00540192 -0.00211509]\n",
      "Touches_away :  [ 0.00619233 -0.00206959 -0.00159284]\n",
      "Passes_home :  [-0.01218521 -0.01026212  0.02066639]\n",
      "Passes_away :  [ 0.01184387  0.00453612 -0.01711467]\n",
      "Tackles_home :  [-0.01441124  0.01419972 -0.00599974]\n",
      "Tackles_away :  [ 0.02165046 -0.01563825 -0.00058829]\n",
      "Clearances_home :  [-0.04517194 -0.00757255  0.04307041]\n",
      "Clearances_away :  [ 0.03666298  0.0079024  -0.0468107 ]\n",
      "Corners_home :  [-0.01793244  0.00872855  0.01395545]\n",
      "Corners_away :  [ 0.03227502  0.02182631 -0.04918645]\n",
      "Offsides_home :  [-0.06999692 -0.02353163  0.07938833]\n",
      "Offsides_away :  [ 0.00912109  0.01505272 -0.02867386]\n",
      "Yellow_cards_home :  [ 0.07134396  0.04875463 -0.10288687]\n",
      "Yellow_cards_away :  [-0.05080234  0.04157652  0.00711408]\n",
      "Fouls_conceded_home :  [ 0.00139344  0.00601703 -0.0093288 ]\n",
      "Fouls_conceded_away :  [-0.02864967  0.00406926  0.01779708]\n",
      "Red_cards_home :  [ 1.10473199 -0.00936057 -1.09180203]\n",
      "Red_cards_away :  [-7.78893651e-01  7.64820685e-04  5.70724440e-01]\n",
      "year :  [-7.48902022e-04 -7.62232886e-05 -2.47248334e-04]\n",
      "Expenditures_home :  [-5.00290810e-03 -9.15120478e-05  3.48724053e-03]\n",
      "Arrivals_home :  [-0.00557844  0.00662076 -0.00326353]\n",
      "Income_home :  [-0.00149829 -0.0001285   0.00182546]\n",
      "Departures_home :  [ 0.02611006 -0.0118097  -0.01058006]\n",
      "Expenditures_away :  [ 0.00215578  0.00058999 -0.00245498]\n",
      "Arrivals_away :  [ 0.02229289 -0.01918635 -0.00075703]\n",
      "Income_away :  [ 0.00371634 -0.00070309 -0.00278235]\n",
      "Departures_away :  [-0.03371367  0.0096801   0.01916964]\n",
      "away_form_exp :  [ 0.10587005  0.0061065  -0.0969066 ]\n",
      "home_form_exp :  [-0.04266431 -0.00456757  0.04207444]\n"
     ]
    }
   ],
   "source": [
    "for i, feature in enumerate(list(df_form)):\n",
    "    print(feature, \": \", clfs[0].coef_[:,i])"
   ]
  },
  {
   "cell_type": "markdown",
   "metadata": {},
   "source": [
    "### Reduction of Feature Set\n",
    "What if we drop some variables that are pretty collinear, or even proxies for one another. Perhaps then our models would perform better.\n",
    "\n",
    "Based on the above, it would appear dropping shots in lieu of shots on target would be beneficial. This is perhaps unsurprising given we could take lots of bad shots, so in a sense we care about the quality of a shot, not just whether it happened. Similarly, possession seems to be more important than touches and passes. It stands to reason that most of the informational content of the touches and passes of a team are contained with the amount of possession they had during the game. "
   ]
  },
  {
   "cell_type": "code",
   "execution_count": 35,
   "metadata": {},
   "outputs": [
    {
     "name": "stdout",
     "output_type": "stream",
     "text": [
      "['Possession_home', 'Possession_away', 'Shots_on_target_home', 'Shots_on_target_away', 'Clearances_home', 'Clearances_away', 'Corners_home', 'Corners_away', 'Offsides_home', 'Offsides_away', 'Yellow_cards_home', 'Yellow_cards_away', 'Fouls_conceded_home', 'Fouls_conceded_away', 'Red_cards_home', 'Red_cards_away', 'year', 'Expenditures_home', 'Arrivals_home', 'Income_home', 'Departures_home', 'Expenditures_away', 'Arrivals_away', 'Income_away', 'Departures_away', 'away_form_linear', 'home_form_linear', 'away_form_exp', 'home_form_exp']\n"
     ]
    }
   ],
   "source": [
    "df_sub = df_form.drop(columns = ['Shots_home', 'Shots_away', 'Touches_home', \n",
    "                                 'Touches_away', 'Passes_home', 'Passes_away',\n",
    "                                 'Tackles_home', 'Tackles_away'])\n",
    "print(list(df_sub))"
   ]
  },
  {
   "cell_type": "markdown",
   "metadata": {},
   "source": [
    "Now, let's re-fit and see if we get any performance gains."
   ]
  },
  {
   "cell_type": "code",
   "execution_count": 36,
   "metadata": {},
   "outputs": [
    {
     "name": "stderr",
     "output_type": "stream",
     "text": [
      "/home/thomas/.local/lib/python3.6/site-packages/sklearn/linear_model/logistic.py:433: FutureWarning: Default solver will be changed to 'lbfgs' in 0.22. Specify a solver to silence this warning.\n",
      "  FutureWarning)\n",
      "/home/thomas/.local/lib/python3.6/site-packages/sklearn/linear_model/logistic.py:460: FutureWarning: Default multi_class will be changed to 'auto' in 0.22. Specify the multi_class option to silence this warning.\n",
      "  \"this warning.\", FutureWarning)\n"
     ]
    },
    {
     "name": "stdout",
     "output_type": "stream",
     "text": [
      "<class 'sklearn.linear_model.logistic.LogisticRegression'>\n",
      "score =  0.6293859649122807 \n",
      "\n",
      "<class 'sklearn.ensemble.forest.RandomForestClassifier'>\n",
      "score =  0.581140350877193 \n",
      "\n",
      "<class 'sklearn.ensemble.gradient_boosting.GradientBoostingClassifier'>\n",
      "score =  0.6381578947368421 \n",
      "\n",
      "<class 'sklearn.neighbors.classification.KNeighborsClassifier'>\n",
      "score =  0.4868421052631579 \n",
      "\n"
     ]
    }
   ],
   "source": [
    "X_sub = df_sub.values\n",
    "X_train, X_test, y_train, y_test = train_test_split(X_sub, y, test_size = .2, random_state = 42)\n",
    "\n",
    "for clf in clfs:\n",
    "    clf.fit(X_train, y_train)\n",
    "    print(type(clf))\n",
    "    print(\"score = \", clf.score(X_test, y_test), \"\\n\")"
   ]
  },
  {
   "cell_type": "markdown",
   "metadata": {},
   "source": [
    "Seems pretty sticky. "
   ]
  },
  {
   "cell_type": "code",
   "execution_count": 37,
   "metadata": {},
   "outputs": [
    {
     "name": "stdout",
     "output_type": "stream",
     "text": [
      "Possession_home :  [ 0.01027899 -0.0021698  -0.00896358]\n",
      "Possession_away :  [-0.00241754 -0.01276122  0.01496017]\n",
      "Shots_on_target_home :  [-0.27836046 -0.16519718  0.37838658]\n",
      "Shots_on_target_away :  [ 0.40019403 -0.0655683  -0.31355547]\n",
      "Clearances_home :  [-0.05261034  0.00028466  0.0426132 ]\n",
      "Clearances_away :  [ 0.04385201  0.01069309 -0.05287397]\n",
      "Corners_home :  [ 0.01604288  0.03042822 -0.03323567]\n",
      "Corners_away :  [-0.01340102  0.02608985 -0.00778045]\n",
      "Offsides_home :  [-0.07965988 -0.0116735   0.07989786]\n",
      "Offsides_away :  [ 0.01481195  0.01067525 -0.02325022]\n",
      "Yellow_cards_home :  [ 0.07861803  0.06310128 -0.10217843]\n",
      "Yellow_cards_away :  [-0.04985651  0.04938738 -0.00362536]\n",
      "Fouls_conceded_home :  [-0.0095618   0.00992163 -0.00337597]\n",
      "Fouls_conceded_away :  [-0.03048352  0.01357684  0.0091956 ]\n",
      "Red_cards_home :  [ 1.04814394 -0.03379634 -0.92706497]\n",
      "Red_cards_away :  [-0.76095026  0.00883074  0.52558471]\n",
      "year :  [-7.85822876e-04 -4.24094973e-05 -2.53833207e-04]\n",
      "Expenditures_home :  [-0.0053218  -0.00063089  0.00429082]\n",
      "Arrivals_home :  [-0.00490399  0.00459591 -0.00299733]\n",
      "Income_home :  [-0.00083175 -0.00011064  0.00111727]\n",
      "Departures_home :  [ 0.02828363 -0.00975795 -0.01223384]\n",
      "Expenditures_away :  [ 0.00295122  0.00023084 -0.00276309]\n",
      "Arrivals_away :  [ 0.01851812 -0.02109155  0.00377014]\n",
      "Income_away :  [ 0.00383408 -0.00053489 -0.00300556]\n",
      "Departures_away :  [-0.03095266  0.01101677  0.01550783]\n",
      "away_form_linear :  [ 0.04185682  0.01224574 -0.05588033]\n",
      "home_form_linear :  [-0.02660133 -0.01487195  0.03747751]\n",
      "away_form_exp :  [-0.01223046 -0.03931837  0.06740519]\n",
      "home_form_exp :  [ 0.02714038  0.02359239 -0.05497045]\n"
     ]
    }
   ],
   "source": [
    "for i, feature in enumerate(list(df_sub)):\n",
    "    print(feature, \": \", clfs[0].coef_[:,i])"
   ]
  },
  {
   "cell_type": "markdown",
   "metadata": {},
   "source": [
    "Our gains are pretty minimal here."
   ]
  },
  {
   "cell_type": "code",
   "execution_count": null,
   "metadata": {},
   "outputs": [],
   "source": []
  }
 ],
 "metadata": {
  "kernelspec": {
   "display_name": "Python 3",
   "language": "python",
   "name": "python3"
  },
  "language_info": {
   "codemirror_mode": {
    "name": "ipython",
    "version": 3
   },
   "file_extension": ".py",
   "mimetype": "text/x-python",
   "name": "python",
   "nbconvert_exporter": "python",
   "pygments_lexer": "ipython3",
   "version": "3.6.7"
  }
 },
 "nbformat": 4,
 "nbformat_minor": 2
}
